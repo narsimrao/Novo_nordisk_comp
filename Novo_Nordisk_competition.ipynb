{
  "nbformat": 4,
  "nbformat_minor": 0,
  "metadata": {
    "colab": {
      "name": "Novo Nordisk competition.ipynb",
      "provenance": []
    },
    "kernelspec": {
      "display_name": "Python 3",
      "name": "python3"
    },
    "language_info": {
      "name": "python"
    }
  },
  "cells": [
    {
      "cell_type": "code",
      "metadata": {
        "id": "czsk-LGqu_vZ"
      },
      "source": [
        "import pandas as pd\n",
        "import numpy as np"
      ],
      "execution_count": 2,
      "outputs": []
    },
    {
      "cell_type": "code",
      "metadata": {
        "colab": {
          "base_uri": "https://localhost:8080/",
          "height": 527
        },
        "id": "8MXFNRNyvTyp",
        "outputId": "7d33bec3-d2b3-40b5-cb9c-a397827663bf"
      },
      "source": [
        "df = pd.read_csv('/content/drive/MyDrive/Novo Nordisk/data_visualization_input/CAERS_ASCII_2004_2017Q2.csv')\n",
        "df.head()"
      ],
      "execution_count": 3,
      "outputs": [
        {
          "output_type": "execute_result",
          "data": {
            "text/html": [
              "<div>\n",
              "<style scoped>\n",
              "    .dataframe tbody tr th:only-of-type {\n",
              "        vertical-align: middle;\n",
              "    }\n",
              "\n",
              "    .dataframe tbody tr th {\n",
              "        vertical-align: top;\n",
              "    }\n",
              "\n",
              "    .dataframe thead th {\n",
              "        text-align: right;\n",
              "    }\n",
              "</style>\n",
              "<table border=\"1\" class=\"dataframe\">\n",
              "  <thead>\n",
              "    <tr style=\"text-align: right;\">\n",
              "      <th></th>\n",
              "      <th>RA_Report #</th>\n",
              "      <th>RA_CAERS Created Date</th>\n",
              "      <th>AEC_Event Start Date</th>\n",
              "      <th>PRI_Product Role</th>\n",
              "      <th>PRI_Reported Brand/Product Name</th>\n",
              "      <th>PRI_FDA Industry Code</th>\n",
              "      <th>PRI_FDA Industry Name</th>\n",
              "      <th>CI_Age at Adverse Event</th>\n",
              "      <th>CI_Age Unit</th>\n",
              "      <th>CI_Gender</th>\n",
              "      <th>AEC_One Row Outcomes</th>\n",
              "      <th>SYM_One Row Coded Symptoms</th>\n",
              "    </tr>\n",
              "  </thead>\n",
              "  <tbody>\n",
              "    <tr>\n",
              "      <th>0</th>\n",
              "      <td>65325</td>\n",
              "      <td>1/1/2004</td>\n",
              "      <td>8/4/2003</td>\n",
              "      <td>Suspect</td>\n",
              "      <td>MIDWEST COUNTRY FAIR CHOCOLATE FLAVORED CHIPS</td>\n",
              "      <td>3</td>\n",
              "      <td>Bakery Prod/Dough/Mix/Icing</td>\n",
              "      <td>2.0</td>\n",
              "      <td>Year(s)</td>\n",
              "      <td>Female</td>\n",
              "      <td>VISITED AN ER, VISITED A HEALTH CARE PROVIDER,...</td>\n",
              "      <td>SWELLING FACE, RASH, WHEEZING, COUGH, HOSPITAL...</td>\n",
              "    </tr>\n",
              "    <tr>\n",
              "      <th>1</th>\n",
              "      <td>65325</td>\n",
              "      <td>1/1/2004</td>\n",
              "      <td>8/4/2003</td>\n",
              "      <td>Suspect</td>\n",
              "      <td>MIDWEST COUNTRY FAIR CHOCOLATE FLAVORED CHIPS</td>\n",
              "      <td>3</td>\n",
              "      <td>Bakery Prod/Dough/Mix/Icing</td>\n",
              "      <td>2.0</td>\n",
              "      <td>Year(s)</td>\n",
              "      <td>Female</td>\n",
              "      <td>VISITED AN ER, VISITED A HEALTH CARE PROVIDER,...</td>\n",
              "      <td>SWELLING FACE, WHEEZING, COUGH, RASH, HOSPITAL...</td>\n",
              "    </tr>\n",
              "    <tr>\n",
              "      <th>2</th>\n",
              "      <td>65333</td>\n",
              "      <td>1/1/2004</td>\n",
              "      <td>NaN</td>\n",
              "      <td>Suspect</td>\n",
              "      <td>KROGER CLASSIC CREAM-DE-MINT CANDY MINT CHIP I...</td>\n",
              "      <td>13</td>\n",
              "      <td>Ice Cream Prod</td>\n",
              "      <td>NaN</td>\n",
              "      <td>Not Available</td>\n",
              "      <td>Female</td>\n",
              "      <td>VISITED AN ER</td>\n",
              "      <td>NAUSEA, DYSGEUSIA, DIARRHOEA</td>\n",
              "    </tr>\n",
              "    <tr>\n",
              "      <th>3</th>\n",
              "      <td>65335</td>\n",
              "      <td>1/1/2004</td>\n",
              "      <td>11/24/2003</td>\n",
              "      <td>Suspect</td>\n",
              "      <td>ENFAMIL LIPIL BABY FORMULA</td>\n",
              "      <td>40</td>\n",
              "      <td>Baby Food Prod</td>\n",
              "      <td>3.0</td>\n",
              "      <td>Month(s)</td>\n",
              "      <td>Not Available</td>\n",
              "      <td>NON-SERIOUS INJURIES/ ILLNESS</td>\n",
              "      <td>GASTROINTESTINAL DISORDER, VOMITING</td>\n",
              "    </tr>\n",
              "    <tr>\n",
              "      <th>4</th>\n",
              "      <td>65336</td>\n",
              "      <td>1/1/2004</td>\n",
              "      <td>NaN</td>\n",
              "      <td>Suspect</td>\n",
              "      <td>ENFIMIL LIPIL BABY FORMULA</td>\n",
              "      <td>40</td>\n",
              "      <td>Baby Food Prod</td>\n",
              "      <td>NaN</td>\n",
              "      <td>Not Available</td>\n",
              "      <td>Not Available</td>\n",
              "      <td>VISITED A HEALTH CARE PROVIDER</td>\n",
              "      <td>GASTROINTESTINAL DISORDER, PHYSICAL EXAMINATION</td>\n",
              "    </tr>\n",
              "  </tbody>\n",
              "</table>\n",
              "</div>"
            ],
            "text/plain": [
              "   RA_Report #  ...                         SYM_One Row Coded Symptoms\n",
              "0        65325  ...  SWELLING FACE, RASH, WHEEZING, COUGH, HOSPITAL...\n",
              "1        65325  ...  SWELLING FACE, WHEEZING, COUGH, RASH, HOSPITAL...\n",
              "2        65333  ...                       NAUSEA, DYSGEUSIA, DIARRHOEA\n",
              "3        65335  ...                GASTROINTESTINAL DISORDER, VOMITING\n",
              "4        65336  ...    GASTROINTESTINAL DISORDER, PHYSICAL EXAMINATION\n",
              "\n",
              "[5 rows x 12 columns]"
            ]
          },
          "metadata": {},
          "execution_count": 3
        }
      ]
    },
    {
      "cell_type": "code",
      "metadata": {
        "colab": {
          "base_uri": "https://localhost:8080/"
        },
        "id": "E8hD6KZVvmXh",
        "outputId": "58359cde-2e3a-4b80-9557-0d3a1ed2b08c"
      },
      "source": [
        "df.shape"
      ],
      "execution_count": 4,
      "outputs": [
        {
          "output_type": "execute_result",
          "data": {
            "text/plain": [
              "(90786, 12)"
            ]
          },
          "metadata": {},
          "execution_count": 4
        }
      ]
    },
    {
      "cell_type": "code",
      "metadata": {
        "colab": {
          "base_uri": "https://localhost:8080/"
        },
        "id": "4EyDSrcFyG9x",
        "outputId": "6b9fae3d-2f1c-4549-97c5-a4e0e6751883"
      },
      "source": [
        "df['CI_Age Unit'].unique()"
      ],
      "execution_count": 5,
      "outputs": [
        {
          "output_type": "execute_result",
          "data": {
            "text/plain": [
              "array(['Year(s)', 'Not Available', 'Month(s)', 'Week(s)', 'Day(s)',\n",
              "       'Decade(s)'], dtype=object)"
            ]
          },
          "metadata": {},
          "execution_count": 5
        }
      ]
    },
    {
      "cell_type": "code",
      "metadata": {
        "colab": {
          "base_uri": "https://localhost:8080/"
        },
        "id": "NVVXYeKzLxxz",
        "outputId": "34bce8be-165a-498e-dca1-d55d318b357f"
      },
      "source": [
        "df['CI_Gender'].unique()"
      ],
      "execution_count": 6,
      "outputs": [
        {
          "output_type": "execute_result",
          "data": {
            "text/plain": [
              "array(['Female', 'Not Available', 'Male', 'Unknown', 'Not Reported'],\n",
              "      dtype=object)"
            ]
          },
          "metadata": {},
          "execution_count": 6
        }
      ]
    },
    {
      "cell_type": "code",
      "metadata": {
        "id": "PmtXS0ADyG5J"
      },
      "source": [
        "df['CI_Age Unit'] = df['CI_Age Unit'].replace('Not Available',np.nan)\n",
        "df['CI_Gender'] = df['CI_Gender'].replace('Female',0)\n",
        "df['CI_Gender'] = df['CI_Gender'].replace('Male',1)\n",
        "df = df.replace(' ',np.nan)"
      ],
      "execution_count": 7,
      "outputs": []
    },
    {
      "cell_type": "code",
      "metadata": {
        "colab": {
          "base_uri": "https://localhost:8080/",
          "height": 527
        },
        "id": "bSi4JkB_yG2B",
        "outputId": "81b6c751-9a6d-45ab-bd15-d98612a1655b"
      },
      "source": [
        "df.head()"
      ],
      "execution_count": 8,
      "outputs": [
        {
          "output_type": "execute_result",
          "data": {
            "text/html": [
              "<div>\n",
              "<style scoped>\n",
              "    .dataframe tbody tr th:only-of-type {\n",
              "        vertical-align: middle;\n",
              "    }\n",
              "\n",
              "    .dataframe tbody tr th {\n",
              "        vertical-align: top;\n",
              "    }\n",
              "\n",
              "    .dataframe thead th {\n",
              "        text-align: right;\n",
              "    }\n",
              "</style>\n",
              "<table border=\"1\" class=\"dataframe\">\n",
              "  <thead>\n",
              "    <tr style=\"text-align: right;\">\n",
              "      <th></th>\n",
              "      <th>RA_Report #</th>\n",
              "      <th>RA_CAERS Created Date</th>\n",
              "      <th>AEC_Event Start Date</th>\n",
              "      <th>PRI_Product Role</th>\n",
              "      <th>PRI_Reported Brand/Product Name</th>\n",
              "      <th>PRI_FDA Industry Code</th>\n",
              "      <th>PRI_FDA Industry Name</th>\n",
              "      <th>CI_Age at Adverse Event</th>\n",
              "      <th>CI_Age Unit</th>\n",
              "      <th>CI_Gender</th>\n",
              "      <th>AEC_One Row Outcomes</th>\n",
              "      <th>SYM_One Row Coded Symptoms</th>\n",
              "    </tr>\n",
              "  </thead>\n",
              "  <tbody>\n",
              "    <tr>\n",
              "      <th>0</th>\n",
              "      <td>65325</td>\n",
              "      <td>1/1/2004</td>\n",
              "      <td>8/4/2003</td>\n",
              "      <td>Suspect</td>\n",
              "      <td>MIDWEST COUNTRY FAIR CHOCOLATE FLAVORED CHIPS</td>\n",
              "      <td>3</td>\n",
              "      <td>Bakery Prod/Dough/Mix/Icing</td>\n",
              "      <td>2.0</td>\n",
              "      <td>Year(s)</td>\n",
              "      <td>0</td>\n",
              "      <td>VISITED AN ER, VISITED A HEALTH CARE PROVIDER,...</td>\n",
              "      <td>SWELLING FACE, RASH, WHEEZING, COUGH, HOSPITAL...</td>\n",
              "    </tr>\n",
              "    <tr>\n",
              "      <th>1</th>\n",
              "      <td>65325</td>\n",
              "      <td>1/1/2004</td>\n",
              "      <td>8/4/2003</td>\n",
              "      <td>Suspect</td>\n",
              "      <td>MIDWEST COUNTRY FAIR CHOCOLATE FLAVORED CHIPS</td>\n",
              "      <td>3</td>\n",
              "      <td>Bakery Prod/Dough/Mix/Icing</td>\n",
              "      <td>2.0</td>\n",
              "      <td>Year(s)</td>\n",
              "      <td>0</td>\n",
              "      <td>VISITED AN ER, VISITED A HEALTH CARE PROVIDER,...</td>\n",
              "      <td>SWELLING FACE, WHEEZING, COUGH, RASH, HOSPITAL...</td>\n",
              "    </tr>\n",
              "    <tr>\n",
              "      <th>2</th>\n",
              "      <td>65333</td>\n",
              "      <td>1/1/2004</td>\n",
              "      <td>NaN</td>\n",
              "      <td>Suspect</td>\n",
              "      <td>KROGER CLASSIC CREAM-DE-MINT CANDY MINT CHIP I...</td>\n",
              "      <td>13</td>\n",
              "      <td>Ice Cream Prod</td>\n",
              "      <td>NaN</td>\n",
              "      <td>NaN</td>\n",
              "      <td>0</td>\n",
              "      <td>VISITED AN ER</td>\n",
              "      <td>NAUSEA, DYSGEUSIA, DIARRHOEA</td>\n",
              "    </tr>\n",
              "    <tr>\n",
              "      <th>3</th>\n",
              "      <td>65335</td>\n",
              "      <td>1/1/2004</td>\n",
              "      <td>11/24/2003</td>\n",
              "      <td>Suspect</td>\n",
              "      <td>ENFAMIL LIPIL BABY FORMULA</td>\n",
              "      <td>40</td>\n",
              "      <td>Baby Food Prod</td>\n",
              "      <td>3.0</td>\n",
              "      <td>Month(s)</td>\n",
              "      <td>Not Available</td>\n",
              "      <td>NON-SERIOUS INJURIES/ ILLNESS</td>\n",
              "      <td>GASTROINTESTINAL DISORDER, VOMITING</td>\n",
              "    </tr>\n",
              "    <tr>\n",
              "      <th>4</th>\n",
              "      <td>65336</td>\n",
              "      <td>1/1/2004</td>\n",
              "      <td>NaN</td>\n",
              "      <td>Suspect</td>\n",
              "      <td>ENFIMIL LIPIL BABY FORMULA</td>\n",
              "      <td>40</td>\n",
              "      <td>Baby Food Prod</td>\n",
              "      <td>NaN</td>\n",
              "      <td>NaN</td>\n",
              "      <td>Not Available</td>\n",
              "      <td>VISITED A HEALTH CARE PROVIDER</td>\n",
              "      <td>GASTROINTESTINAL DISORDER, PHYSICAL EXAMINATION</td>\n",
              "    </tr>\n",
              "  </tbody>\n",
              "</table>\n",
              "</div>"
            ],
            "text/plain": [
              "   RA_Report #  ...                         SYM_One Row Coded Symptoms\n",
              "0        65325  ...  SWELLING FACE, RASH, WHEEZING, COUGH, HOSPITAL...\n",
              "1        65325  ...  SWELLING FACE, WHEEZING, COUGH, RASH, HOSPITAL...\n",
              "2        65333  ...                       NAUSEA, DYSGEUSIA, DIARRHOEA\n",
              "3        65335  ...                GASTROINTESTINAL DISORDER, VOMITING\n",
              "4        65336  ...    GASTROINTESTINAL DISORDER, PHYSICAL EXAMINATION\n",
              "\n",
              "[5 rows x 12 columns]"
            ]
          },
          "metadata": {},
          "execution_count": 8
        }
      ]
    },
    {
      "cell_type": "code",
      "metadata": {
        "colab": {
          "base_uri": "https://localhost:8080/"
        },
        "id": "ycF0gtjfyGxa",
        "outputId": "7ef9ecb0-913f-42ca-e651-bfd3d99b3178"
      },
      "source": [
        "df.isnull().sum()"
      ],
      "execution_count": 9,
      "outputs": [
        {
          "output_type": "execute_result",
          "data": {
            "text/plain": [
              "RA_Report #                            0\n",
              "RA_CAERS Created Date                  0\n",
              "AEC_Event Start Date               37133\n",
              "PRI_Product Role                       0\n",
              "PRI_Reported Brand/Product Name        0\n",
              "PRI_FDA Industry Code                  0\n",
              "PRI_FDA Industry Name                  0\n",
              "CI_Age at Adverse Event            37860\n",
              "CI_Age Unit                        37873\n",
              "CI_Gender                              0\n",
              "AEC_One Row Outcomes                   0\n",
              "SYM_One Row Coded Symptoms             5\n",
              "dtype: int64"
            ]
          },
          "metadata": {},
          "execution_count": 9
        }
      ]
    },
    {
      "cell_type": "code",
      "metadata": {
        "colab": {
          "base_uri": "https://localhost:8080/"
        },
        "id": "mj_2Nx3VWYvU",
        "outputId": "d6672696-8e70-4e99-acf8-dc7a7e5995be"
      },
      "source": [
        "df.info()"
      ],
      "execution_count": 10,
      "outputs": [
        {
          "output_type": "stream",
          "name": "stdout",
          "text": [
            "<class 'pandas.core.frame.DataFrame'>\n",
            "RangeIndex: 90786 entries, 0 to 90785\n",
            "Data columns (total 12 columns):\n",
            " #   Column                           Non-Null Count  Dtype  \n",
            "---  ------                           --------------  -----  \n",
            " 0   RA_Report #                      90786 non-null  int64  \n",
            " 1   RA_CAERS Created Date            90786 non-null  object \n",
            " 2   AEC_Event Start Date             53653 non-null  object \n",
            " 3   PRI_Product Role                 90786 non-null  object \n",
            " 4   PRI_Reported Brand/Product Name  90786 non-null  object \n",
            " 5   PRI_FDA Industry Code            90786 non-null  int64  \n",
            " 6   PRI_FDA Industry Name            90786 non-null  object \n",
            " 7   CI_Age at Adverse Event          52926 non-null  float64\n",
            " 8   CI_Age Unit                      52913 non-null  object \n",
            " 9   CI_Gender                        90786 non-null  object \n",
            " 10  AEC_One Row Outcomes             90786 non-null  object \n",
            " 11  SYM_One Row Coded Symptoms       90781 non-null  object \n",
            "dtypes: float64(1), int64(2), object(9)\n",
            "memory usage: 8.3+ MB\n"
          ]
        }
      ]
    },
    {
      "cell_type": "code",
      "metadata": {
        "id": "AfJAljPqWpKd"
      },
      "source": [
        "df['AEC_Event Start Date'] = pd.to_datetime(df['AEC_Event Start Date'])"
      ],
      "execution_count": 11,
      "outputs": []
    },
    {
      "cell_type": "code",
      "metadata": {
        "colab": {
          "base_uri": "https://localhost:8080/",
          "height": 779
        },
        "id": "8eSr7ROPWpHm",
        "outputId": "39d90904-b44c-4769-dd04-276245425b9d"
      },
      "source": [
        "temp_df = df.where(df['AEC_Event Start Date'].notnull(),None)\n",
        "temp_df"
      ],
      "execution_count": 16,
      "outputs": [
        {
          "output_type": "execute_result",
          "data": {
            "text/html": [
              "<div>\n",
              "<style scoped>\n",
              "    .dataframe tbody tr th:only-of-type {\n",
              "        vertical-align: middle;\n",
              "    }\n",
              "\n",
              "    .dataframe tbody tr th {\n",
              "        vertical-align: top;\n",
              "    }\n",
              "\n",
              "    .dataframe thead th {\n",
              "        text-align: right;\n",
              "    }\n",
              "</style>\n",
              "<table border=\"1\" class=\"dataframe\">\n",
              "  <thead>\n",
              "    <tr style=\"text-align: right;\">\n",
              "      <th></th>\n",
              "      <th>RA_Report #</th>\n",
              "      <th>RA_CAERS Created Date</th>\n",
              "      <th>AEC_Event Start Date</th>\n",
              "      <th>PRI_Product Role</th>\n",
              "      <th>PRI_Reported Brand/Product Name</th>\n",
              "      <th>PRI_FDA Industry Code</th>\n",
              "      <th>PRI_FDA Industry Name</th>\n",
              "      <th>CI_Age at Adverse Event</th>\n",
              "      <th>CI_Age Unit</th>\n",
              "      <th>CI_Gender</th>\n",
              "      <th>AEC_One Row Outcomes</th>\n",
              "      <th>SYM_One Row Coded Symptoms</th>\n",
              "    </tr>\n",
              "  </thead>\n",
              "  <tbody>\n",
              "    <tr>\n",
              "      <th>0</th>\n",
              "      <td>65325</td>\n",
              "      <td>1/1/2004</td>\n",
              "      <td>2003-08-04</td>\n",
              "      <td>Suspect</td>\n",
              "      <td>MIDWEST COUNTRY FAIR CHOCOLATE FLAVORED CHIPS</td>\n",
              "      <td>3</td>\n",
              "      <td>Bakery Prod/Dough/Mix/Icing</td>\n",
              "      <td>2</td>\n",
              "      <td>Year(s)</td>\n",
              "      <td>0</td>\n",
              "      <td>VISITED AN ER, VISITED A HEALTH CARE PROVIDER,...</td>\n",
              "      <td>SWELLING FACE, RASH, WHEEZING, COUGH, HOSPITAL...</td>\n",
              "    </tr>\n",
              "    <tr>\n",
              "      <th>1</th>\n",
              "      <td>65325</td>\n",
              "      <td>1/1/2004</td>\n",
              "      <td>2003-08-04</td>\n",
              "      <td>Suspect</td>\n",
              "      <td>MIDWEST COUNTRY FAIR CHOCOLATE FLAVORED CHIPS</td>\n",
              "      <td>3</td>\n",
              "      <td>Bakery Prod/Dough/Mix/Icing</td>\n",
              "      <td>2</td>\n",
              "      <td>Year(s)</td>\n",
              "      <td>0</td>\n",
              "      <td>VISITED AN ER, VISITED A HEALTH CARE PROVIDER,...</td>\n",
              "      <td>SWELLING FACE, WHEEZING, COUGH, RASH, HOSPITAL...</td>\n",
              "    </tr>\n",
              "    <tr>\n",
              "      <th>2</th>\n",
              "      <td>None</td>\n",
              "      <td>None</td>\n",
              "      <td>NaT</td>\n",
              "      <td>None</td>\n",
              "      <td>None</td>\n",
              "      <td>None</td>\n",
              "      <td>None</td>\n",
              "      <td>None</td>\n",
              "      <td>None</td>\n",
              "      <td>None</td>\n",
              "      <td>None</td>\n",
              "      <td>None</td>\n",
              "    </tr>\n",
              "    <tr>\n",
              "      <th>3</th>\n",
              "      <td>65335</td>\n",
              "      <td>1/1/2004</td>\n",
              "      <td>2003-11-24</td>\n",
              "      <td>Suspect</td>\n",
              "      <td>ENFAMIL LIPIL BABY FORMULA</td>\n",
              "      <td>40</td>\n",
              "      <td>Baby Food Prod</td>\n",
              "      <td>3</td>\n",
              "      <td>Month(s)</td>\n",
              "      <td>Not Available</td>\n",
              "      <td>NON-SERIOUS INJURIES/ ILLNESS</td>\n",
              "      <td>GASTROINTESTINAL DISORDER, VOMITING</td>\n",
              "    </tr>\n",
              "    <tr>\n",
              "      <th>4</th>\n",
              "      <td>None</td>\n",
              "      <td>None</td>\n",
              "      <td>NaT</td>\n",
              "      <td>None</td>\n",
              "      <td>None</td>\n",
              "      <td>None</td>\n",
              "      <td>None</td>\n",
              "      <td>None</td>\n",
              "      <td>None</td>\n",
              "      <td>None</td>\n",
              "      <td>None</td>\n",
              "      <td>None</td>\n",
              "    </tr>\n",
              "    <tr>\n",
              "      <th>...</th>\n",
              "      <td>...</td>\n",
              "      <td>...</td>\n",
              "      <td>...</td>\n",
              "      <td>...</td>\n",
              "      <td>...</td>\n",
              "      <td>...</td>\n",
              "      <td>...</td>\n",
              "      <td>...</td>\n",
              "      <td>...</td>\n",
              "      <td>...</td>\n",
              "      <td>...</td>\n",
              "      <td>...</td>\n",
              "    </tr>\n",
              "    <tr>\n",
              "      <th>90781</th>\n",
              "      <td>214516</td>\n",
              "      <td>6/29/2017</td>\n",
              "      <td>2017-01-20</td>\n",
              "      <td>Concomitant</td>\n",
              "      <td>CALTRATE CALCIUM</td>\n",
              "      <td>54</td>\n",
              "      <td>Vit/Min/Prot/Unconv Diet(Human/Animal)</td>\n",
              "      <td>66</td>\n",
              "      <td>Year(s)</td>\n",
              "      <td>0</td>\n",
              "      <td>HOSPITALIZATION, VISITED AN ER</td>\n",
              "      <td>SWELLING</td>\n",
              "    </tr>\n",
              "    <tr>\n",
              "      <th>90782</th>\n",
              "      <td>214516</td>\n",
              "      <td>6/29/2017</td>\n",
              "      <td>2017-01-20</td>\n",
              "      <td>Concomitant</td>\n",
              "      <td>VITAMIN D3</td>\n",
              "      <td>54</td>\n",
              "      <td>Vit/Min/Prot/Unconv Diet(Human/Animal)</td>\n",
              "      <td>66</td>\n",
              "      <td>Year(s)</td>\n",
              "      <td>0</td>\n",
              "      <td>HOSPITALIZATION, VISITED AN ER</td>\n",
              "      <td>SWELLING</td>\n",
              "    </tr>\n",
              "    <tr>\n",
              "      <th>90783</th>\n",
              "      <td>214516</td>\n",
              "      <td>6/29/2017</td>\n",
              "      <td>2017-01-20</td>\n",
              "      <td>Suspect</td>\n",
              "      <td>SUPERIOR PREFERENCE HAIR COLORING</td>\n",
              "      <td>53</td>\n",
              "      <td>Cosmetics</td>\n",
              "      <td>66</td>\n",
              "      <td>Year(s)</td>\n",
              "      <td>0</td>\n",
              "      <td>HOSPITALIZATION, VISITED AN ER</td>\n",
              "      <td>SWELLING</td>\n",
              "    </tr>\n",
              "    <tr>\n",
              "      <th>90784</th>\n",
              "      <td>None</td>\n",
              "      <td>None</td>\n",
              "      <td>NaT</td>\n",
              "      <td>None</td>\n",
              "      <td>None</td>\n",
              "      <td>None</td>\n",
              "      <td>None</td>\n",
              "      <td>None</td>\n",
              "      <td>None</td>\n",
              "      <td>None</td>\n",
              "      <td>None</td>\n",
              "      <td>None</td>\n",
              "    </tr>\n",
              "    <tr>\n",
              "      <th>90785</th>\n",
              "      <td>None</td>\n",
              "      <td>None</td>\n",
              "      <td>NaT</td>\n",
              "      <td>None</td>\n",
              "      <td>None</td>\n",
              "      <td>None</td>\n",
              "      <td>None</td>\n",
              "      <td>None</td>\n",
              "      <td>None</td>\n",
              "      <td>None</td>\n",
              "      <td>None</td>\n",
              "      <td>None</td>\n",
              "    </tr>\n",
              "  </tbody>\n",
              "</table>\n",
              "<p>90786 rows × 12 columns</p>\n",
              "</div>"
            ],
            "text/plain": [
              "      RA_Report #  ...                         SYM_One Row Coded Symptoms\n",
              "0           65325  ...  SWELLING FACE, RASH, WHEEZING, COUGH, HOSPITAL...\n",
              "1           65325  ...  SWELLING FACE, WHEEZING, COUGH, RASH, HOSPITAL...\n",
              "2            None  ...                                               None\n",
              "3           65335  ...                GASTROINTESTINAL DISORDER, VOMITING\n",
              "4            None  ...                                               None\n",
              "...           ...  ...                                                ...\n",
              "90781      214516  ...                                           SWELLING\n",
              "90782      214516  ...                                           SWELLING\n",
              "90783      214516  ...                                           SWELLING\n",
              "90784        None  ...                                               None\n",
              "90785        None  ...                                               None\n",
              "\n",
              "[90786 rows x 12 columns]"
            ]
          },
          "metadata": {},
          "execution_count": 16
        }
      ]
    },
    {
      "cell_type": "code",
      "metadata": {
        "id": "i7ZZ48WPWpBF"
      },
      "source": [
        ""
      ],
      "execution_count": 12,
      "outputs": []
    },
    {
      "cell_type": "code",
      "metadata": {
        "id": "Cy3VgJn8Wo-1"
      },
      "source": [
        ""
      ],
      "execution_count": 12,
      "outputs": []
    },
    {
      "cell_type": "code",
      "metadata": {
        "id": "pjp1zWTjWo71"
      },
      "source": [
        ""
      ],
      "execution_count": 12,
      "outputs": []
    }
  ]
}