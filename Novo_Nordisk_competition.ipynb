{
 "cells": [
  {
   "cell_type": "code",
   "execution_count": 1,
   "metadata": {
    "id": "czsk-LGqu_vZ"
   },
   "outputs": [],
   "source": [
    "import pandas as pd\n",
    "import numpy as np\n",
    "from collections import Counter"
   ]
  },
  {
   "cell_type": "code",
   "execution_count": 2,
   "metadata": {},
   "outputs": [],
   "source": [
    "import dash\n",
    "from dash import dcc, html\n",
    "from dash.exceptions import PreventUpdate\n",
    "from dash.dependencies import Input, Output\n",
    "import plotly.express as px\n",
    "import plotly.graph_objects as go"
   ]
  },
  {
   "cell_type": "code",
   "execution_count": 3,
   "metadata": {
    "colab": {
     "base_uri": "https://localhost:8080/",
     "height": 527
    },
    "id": "8MXFNRNyvTyp",
    "outputId": "7d33bec3-d2b3-40b5-cb9c-a397827663bf"
   },
   "outputs": [
    {
     "data": {
      "text/html": [
       "<div>\n",
       "<style scoped>\n",
       "    .dataframe tbody tr th:only-of-type {\n",
       "        vertical-align: middle;\n",
       "    }\n",
       "\n",
       "    .dataframe tbody tr th {\n",
       "        vertical-align: top;\n",
       "    }\n",
       "\n",
       "    .dataframe thead th {\n",
       "        text-align: right;\n",
       "    }\n",
       "</style>\n",
       "<table border=\"1\" class=\"dataframe\">\n",
       "  <thead>\n",
       "    <tr style=\"text-align: right;\">\n",
       "      <th></th>\n",
       "      <th>RA_Report #</th>\n",
       "      <th>RA_CAERS Created Date</th>\n",
       "      <th>AEC_Event Start Date</th>\n",
       "      <th>PRI_Product Role</th>\n",
       "      <th>PRI_Reported Brand/Product Name</th>\n",
       "      <th>PRI_FDA Industry Code</th>\n",
       "      <th>PRI_FDA Industry Name</th>\n",
       "      <th>CI_Age at Adverse Event</th>\n",
       "      <th>CI_Age Unit</th>\n",
       "      <th>CI_Gender</th>\n",
       "      <th>AEC_One Row Outcomes</th>\n",
       "      <th>SYM_One Row Coded Symptoms</th>\n",
       "    </tr>\n",
       "  </thead>\n",
       "  <tbody>\n",
       "    <tr>\n",
       "      <th>0</th>\n",
       "      <td>65325</td>\n",
       "      <td>01-01-2004</td>\n",
       "      <td>08-04-2003</td>\n",
       "      <td>Suspect</td>\n",
       "      <td>MIDWEST COUNTRY FAIR CHOCOLATE FLAVORED CHIPS</td>\n",
       "      <td>3</td>\n",
       "      <td>Bakery Prod/Dough/Mix/Icing</td>\n",
       "      <td>2.0</td>\n",
       "      <td>Year(s)</td>\n",
       "      <td>Female</td>\n",
       "      <td>VISITED AN ER, VISITED A HEALTH CARE PROVIDER,...</td>\n",
       "      <td>SWELLING FACE, RASH, WHEEZING, COUGH, HOSPITAL...</td>\n",
       "    </tr>\n",
       "    <tr>\n",
       "      <th>1</th>\n",
       "      <td>65325</td>\n",
       "      <td>01-01-2004</td>\n",
       "      <td>08-04-2003</td>\n",
       "      <td>Suspect</td>\n",
       "      <td>MIDWEST COUNTRY FAIR CHOCOLATE FLAVORED CHIPS</td>\n",
       "      <td>3</td>\n",
       "      <td>Bakery Prod/Dough/Mix/Icing</td>\n",
       "      <td>2.0</td>\n",
       "      <td>Year(s)</td>\n",
       "      <td>Female</td>\n",
       "      <td>VISITED AN ER, VISITED A HEALTH CARE PROVIDER,...</td>\n",
       "      <td>SWELLING FACE, WHEEZING, COUGH, RASH, HOSPITAL...</td>\n",
       "    </tr>\n",
       "    <tr>\n",
       "      <th>2</th>\n",
       "      <td>65333</td>\n",
       "      <td>01-01-2004</td>\n",
       "      <td>NaN</td>\n",
       "      <td>Suspect</td>\n",
       "      <td>KROGER CLASSIC CREAM-DE-MINT CANDY MINT CHIP I...</td>\n",
       "      <td>13</td>\n",
       "      <td>Ice Cream Prod</td>\n",
       "      <td>NaN</td>\n",
       "      <td>Not Available</td>\n",
       "      <td>Female</td>\n",
       "      <td>VISITED AN ER</td>\n",
       "      <td>NAUSEA, DYSGEUSIA, DIARRHOEA</td>\n",
       "    </tr>\n",
       "    <tr>\n",
       "      <th>3</th>\n",
       "      <td>65335</td>\n",
       "      <td>01-01-2004</td>\n",
       "      <td>11/24/2003</td>\n",
       "      <td>Suspect</td>\n",
       "      <td>ENFAMIL LIPIL BABY FORMULA</td>\n",
       "      <td>40</td>\n",
       "      <td>Baby Food Prod</td>\n",
       "      <td>3.0</td>\n",
       "      <td>Month(s)</td>\n",
       "      <td>Not Available</td>\n",
       "      <td>NON-SERIOUS INJURIES/ ILLNESS</td>\n",
       "      <td>GASTROINTESTINAL DISORDER, VOMITING</td>\n",
       "    </tr>\n",
       "    <tr>\n",
       "      <th>4</th>\n",
       "      <td>65336</td>\n",
       "      <td>01-01-2004</td>\n",
       "      <td>NaN</td>\n",
       "      <td>Suspect</td>\n",
       "      <td>ENFIMIL LIPIL BABY FORMULA</td>\n",
       "      <td>40</td>\n",
       "      <td>Baby Food Prod</td>\n",
       "      <td>NaN</td>\n",
       "      <td>Not Available</td>\n",
       "      <td>Not Available</td>\n",
       "      <td>VISITED A HEALTH CARE PROVIDER</td>\n",
       "      <td>GASTROINTESTINAL DISORDER, PHYSICAL EXAMINATION</td>\n",
       "    </tr>\n",
       "  </tbody>\n",
       "</table>\n",
       "</div>"
      ],
      "text/plain": [
       "   RA_Report # RA_CAERS Created Date AEC_Event Start Date PRI_Product Role  \\\n",
       "0        65325            01-01-2004           08-04-2003          Suspect   \n",
       "1        65325            01-01-2004           08-04-2003          Suspect   \n",
       "2        65333            01-01-2004                  NaN          Suspect   \n",
       "3        65335            01-01-2004           11/24/2003          Suspect   \n",
       "4        65336            01-01-2004                  NaN          Suspect   \n",
       "\n",
       "                     PRI_Reported Brand/Product Name  PRI_FDA Industry Code  \\\n",
       "0      MIDWEST COUNTRY FAIR CHOCOLATE FLAVORED CHIPS                      3   \n",
       "1      MIDWEST COUNTRY FAIR CHOCOLATE FLAVORED CHIPS                      3   \n",
       "2  KROGER CLASSIC CREAM-DE-MINT CANDY MINT CHIP I...                     13   \n",
       "3                         ENFAMIL LIPIL BABY FORMULA                     40   \n",
       "4                         ENFIMIL LIPIL BABY FORMULA                     40   \n",
       "\n",
       "         PRI_FDA Industry Name  CI_Age at Adverse Event    CI_Age Unit  \\\n",
       "0  Bakery Prod/Dough/Mix/Icing                      2.0        Year(s)   \n",
       "1  Bakery Prod/Dough/Mix/Icing                      2.0        Year(s)   \n",
       "2               Ice Cream Prod                      NaN  Not Available   \n",
       "3               Baby Food Prod                      3.0       Month(s)   \n",
       "4               Baby Food Prod                      NaN  Not Available   \n",
       "\n",
       "       CI_Gender                               AEC_One Row Outcomes  \\\n",
       "0         Female  VISITED AN ER, VISITED A HEALTH CARE PROVIDER,...   \n",
       "1         Female  VISITED AN ER, VISITED A HEALTH CARE PROVIDER,...   \n",
       "2         Female                                      VISITED AN ER   \n",
       "3  Not Available                      NON-SERIOUS INJURIES/ ILLNESS   \n",
       "4  Not Available                     VISITED A HEALTH CARE PROVIDER   \n",
       "\n",
       "                          SYM_One Row Coded Symptoms  \n",
       "0  SWELLING FACE, RASH, WHEEZING, COUGH, HOSPITAL...  \n",
       "1  SWELLING FACE, WHEEZING, COUGH, RASH, HOSPITAL...  \n",
       "2                       NAUSEA, DYSGEUSIA, DIARRHOEA  \n",
       "3                GASTROINTESTINAL DISORDER, VOMITING  \n",
       "4    GASTROINTESTINAL DISORDER, PHYSICAL EXAMINATION  "
      ]
     },
     "execution_count": 3,
     "metadata": {},
     "output_type": "execute_result"
    }
   ],
   "source": [
    "df = pd.read_csv('CAERS_ASCII_2004_2017Q2.csv')\n",
    "df.head()"
   ]
  },
  {
   "cell_type": "code",
   "execution_count": 4,
   "metadata": {
    "colab": {
     "base_uri": "https://localhost:8080/"
    },
    "id": "E8hD6KZVvmXh",
    "outputId": "58359cde-2e3a-4b80-9557-0d3a1ed2b08c"
   },
   "outputs": [],
   "source": [
    "temp_df = df.copy()"
   ]
  },
  {
   "cell_type": "markdown",
   "metadata": {},
   "source": [
    "# Q1"
   ]
  },
  {
   "cell_type": "code",
   "execution_count": 5,
   "metadata": {},
   "outputs": [],
   "source": [
    "temp_df['AEC_Event Start Date'] = pd.to_datetime(temp_df['AEC_Event Start Date'])"
   ]
  },
  {
   "cell_type": "code",
   "execution_count": 6,
   "metadata": {},
   "outputs": [
    {
     "data": {
      "text/plain": [
       "array(['Female', 'Not Available', 'Male', 'Unknown', 'Not Reported'],\n",
       "      dtype=object)"
      ]
     },
     "execution_count": 6,
     "metadata": {},
     "output_type": "execute_result"
    }
   ],
   "source": [
    "temp_df['CI_Gender'].unique()"
   ]
  },
  {
   "cell_type": "code",
   "execution_count": 7,
   "metadata": {},
   "outputs": [],
   "source": [
    "for name in temp_df['CI_Gender'].unique():\n",
    "    if(name == 'Female'):\n",
    "        temp_df['CI_Gender'] = temp_df['CI_Gender'].replace(name,0)\n",
    "    elif(name == 'Male'):\n",
    "        temp_df['CI_Gender'] = temp_df['CI_Gender'].replace(name,1)\n",
    "    else:\n",
    "        temp_df['CI_Gender'] = temp_df['CI_Gender'].replace(name,2)\n",
    "temp_df = temp_df.replace(' ',np.nan)"
   ]
  },
  {
   "cell_type": "code",
   "execution_count": 8,
   "metadata": {},
   "outputs": [
    {
     "data": {
      "text/plain": [
       "array([0, 2, 1], dtype=int64)"
      ]
     },
     "execution_count": 8,
     "metadata": {},
     "output_type": "execute_result"
    }
   ],
   "source": [
    "temp_df['CI_Gender'].unique()"
   ]
  },
  {
   "cell_type": "code",
   "execution_count": 9,
   "metadata": {
    "id": "PmtXS0ADyG5J"
   },
   "outputs": [],
   "source": [
    "# df['CI_Gender'] = df['CI_Gender'].replace('Female',0)\n",
    "# df['CI_Gender'] = df['CI_Gender'].replace('Male',1)\n",
    "\n"
   ]
  },
  {
   "cell_type": "code",
   "execution_count": 10,
   "metadata": {
    "colab": {
     "base_uri": "https://localhost:8080/",
     "height": 779
    },
    "id": "8eSr7ROPWpHm",
    "outputId": "39d90904-b44c-4769-dd04-276245425b9d"
   },
   "outputs": [
    {
     "data": {
      "text/plain": [
       "(53653, 12)"
      ]
     },
     "execution_count": 10,
     "metadata": {},
     "output_type": "execute_result"
    }
   ],
   "source": [
    "temp_df['AEC_Event Start Date'].replace('', np.nan, inplace=True)\n",
    "temp_df.dropna(subset=['AEC_Event Start Date'], inplace=True)\n",
    "temp_df.shape"
   ]
  },
  {
   "cell_type": "code",
   "execution_count": 11,
   "metadata": {},
   "outputs": [],
   "source": [
    "data = temp_df[['AEC_Event Start Date','CI_Gender']]"
   ]
  },
  {
   "cell_type": "code",
   "execution_count": 12,
   "metadata": {},
   "outputs": [],
   "source": [
    "data.to_csv('q1.csv',index=False)"
   ]
  },
  {
   "cell_type": "code",
   "execution_count": 13,
   "metadata": {},
   "outputs": [],
   "source": [
    "dt = pd.read_csv('q1.csv')"
   ]
  },
  {
   "cell_type": "code",
   "execution_count": null,
   "metadata": {},
   "outputs": [],
   "source": []
  },
  {
   "cell_type": "code",
   "execution_count": 14,
   "metadata": {},
   "outputs": [],
   "source": [
    "years = []\n",
    "for i in range(0,dt['AEC_Event Start Date'].shape[0]):\n",
    "    date = pd.to_datetime(dt['AEC_Event Start Date'][i])\n",
    "    date = str(date).split()[0]\n",
    "    year = pd.to_numeric(date.split('-')[0])\n",
    "    years.append(year)"
   ]
  },
  {
   "cell_type": "code",
   "execution_count": 15,
   "metadata": {},
   "outputs": [],
   "source": [
    "dt['years'] = years"
   ]
  },
  {
   "cell_type": "code",
   "execution_count": 16,
   "metadata": {},
   "outputs": [
    {
     "data": {
      "text/html": [
       "<div>\n",
       "<style scoped>\n",
       "    .dataframe tbody tr th:only-of-type {\n",
       "        vertical-align: middle;\n",
       "    }\n",
       "\n",
       "    .dataframe tbody tr th {\n",
       "        vertical-align: top;\n",
       "    }\n",
       "\n",
       "    .dataframe thead th {\n",
       "        text-align: right;\n",
       "    }\n",
       "</style>\n",
       "<table border=\"1\" class=\"dataframe\">\n",
       "  <thead>\n",
       "    <tr style=\"text-align: right;\">\n",
       "      <th></th>\n",
       "      <th>AEC_Event Start Date</th>\n",
       "      <th>CI_Gender</th>\n",
       "      <th>years</th>\n",
       "    </tr>\n",
       "  </thead>\n",
       "  <tbody>\n",
       "    <tr>\n",
       "      <th>0</th>\n",
       "      <td>2003-08-04</td>\n",
       "      <td>0</td>\n",
       "      <td>2003</td>\n",
       "    </tr>\n",
       "    <tr>\n",
       "      <th>1</th>\n",
       "      <td>2003-08-04</td>\n",
       "      <td>0</td>\n",
       "      <td>2003</td>\n",
       "    </tr>\n",
       "  </tbody>\n",
       "</table>\n",
       "</div>"
      ],
      "text/plain": [
       "  AEC_Event Start Date  CI_Gender  years\n",
       "0           2003-08-04          0   2003\n",
       "1           2003-08-04          0   2003"
      ]
     },
     "execution_count": 16,
     "metadata": {},
     "output_type": "execute_result"
    }
   ],
   "source": [
    "dt.head(2)"
   ]
  },
  {
   "cell_type": "code",
   "execution_count": 17,
   "metadata": {},
   "outputs": [],
   "source": [
    "data_count_by_year = dt.groupby('years')['CI_Gender'].count()"
   ]
  },
  {
   "cell_type": "code",
   "execution_count": 18,
   "metadata": {},
   "outputs": [],
   "source": [
    "data_count_by_year = data_count_by_year.to_dict()"
   ]
  },
  {
   "cell_type": "code",
   "execution_count": 19,
   "metadata": {},
   "outputs": [
    {
     "name": "stdout",
     "output_type": "stream",
     "text": [
      "<class 'pandas.core.frame.DataFrame'>\n",
      "RangeIndex: 53653 entries, 0 to 53652\n",
      "Data columns (total 3 columns):\n",
      " #   Column                Non-Null Count  Dtype \n",
      "---  ------                --------------  ----- \n",
      " 0   AEC_Event Start Date  53653 non-null  object\n",
      " 1   CI_Gender             53653 non-null  int64 \n",
      " 2   years                 53653 non-null  int64 \n",
      "dtypes: int64(2), object(1)\n",
      "memory usage: 1.2+ MB\n"
     ]
    }
   ],
   "source": [
    "# dt = dt[(dt['CI_Gender'].str.contains('0', na=False)) | (dt['CI_Gender'].str.contains('1', na=False))]\n",
    "dt.info()"
   ]
  },
  {
   "cell_type": "code",
   "execution_count": 20,
   "metadata": {},
   "outputs": [
    {
     "name": "stdout",
     "output_type": "stream",
     "text": [
      "<class 'pandas.core.frame.DataFrame'>\n",
      "RangeIndex: 53653 entries, 0 to 53652\n",
      "Data columns (total 3 columns):\n",
      " #   Column                Non-Null Count  Dtype \n",
      "---  ------                --------------  ----- \n",
      " 0   AEC_Event Start Date  53653 non-null  object\n",
      " 1   CI_Gender             53653 non-null  int64 \n",
      " 2   years                 53653 non-null  int64 \n",
      "dtypes: int64(2), object(1)\n",
      "memory usage: 1.2+ MB\n"
     ]
    }
   ],
   "source": [
    "dt['CI_Gender'] = pd.to_numeric(dt['CI_Gender'])\n",
    "dt.info()"
   ]
  },
  {
   "cell_type": "code",
   "execution_count": 21,
   "metadata": {},
   "outputs": [],
   "source": [
    "dt.index = dt['years']"
   ]
  },
  {
   "cell_type": "code",
   "execution_count": 22,
   "metadata": {},
   "outputs": [],
   "source": [
    "dt_zeros = dt.where(dt['CI_Gender'] == 0)\n",
    "dt_ones = dt.where(dt['CI_Gender'] == 1)\n",
    "dt_unknown = dt.where(dt['CI_Gender'] == 2)"
   ]
  },
  {
   "cell_type": "code",
   "execution_count": 23,
   "metadata": {},
   "outputs": [],
   "source": [
    "dt_zeros = dt_zeros.dropna()\n",
    "dt_ones = dt_ones.dropna()\n",
    "dt_unknown = dt_unknown.dropna()"
   ]
  },
  {
   "cell_type": "code",
   "execution_count": 24,
   "metadata": {},
   "outputs": [],
   "source": [
    "dt_zeros = dt_zeros.groupby(dt_zeros.index)['CI_Gender'].count()\n",
    "dt_ones = dt_ones.groupby(dt_ones.index)['CI_Gender'].count()\n",
    "dt_unknown = dt_unknown.groupby(dt_unknown.index)['CI_Gender'].count()"
   ]
  },
  {
   "cell_type": "code",
   "execution_count": 25,
   "metadata": {},
   "outputs": [],
   "source": [
    "dt_zeros_female = dt_zeros.to_dict()\n",
    "dt_ones_male = dt_ones.to_dict()\n",
    "dt_twos_unknown = dt_unknown.to_dict()"
   ]
  },
  {
   "cell_type": "code",
   "execution_count": 26,
   "metadata": {},
   "outputs": [],
   "source": [
    "years = []\n",
    "total_entries = []\n",
    "male = []\n",
    "female = []\n",
    "unknown = []\n",
    "\n",
    "for key,value in data_count_by_year.items():\n",
    "    #Female\n",
    "    if key in dt_zeros_female:\n",
    "        female.append(dt_zeros_female[key])\n",
    "    else:\n",
    "        female.append(0)\n",
    "\n",
    "    #Male\n",
    "    if key in dt_ones_male:\n",
    "        male.append(dt_ones_male[key])\n",
    "    else:\n",
    "        male.append(0)\n",
    "\n",
    "    #Unknown\n",
    "    if key in dt_twos_unknown:\n",
    "        unknown.append(dt_twos_unknown[key])\n",
    "    else:\n",
    "        unknown.append(0)\n",
    "    years.append(key)\n",
    "    total_entries.append(value)\n"
   ]
  },
  {
   "cell_type": "code",
   "execution_count": 27,
   "metadata": {},
   "outputs": [],
   "source": [
    "d = {'Years' : years,\n",
    "    'Male' : male,\n",
    "    'Female' : female,\n",
    "    'Unknown' : unknown,\n",
    "    'Total_entries' : total_entries}\n",
    "final_df = pd.DataFrame(d)"
   ]
  },
  {
   "cell_type": "code",
   "execution_count": 28,
   "metadata": {},
   "outputs": [],
   "source": [
    "def percentage(part, whole):\n",
    "    percentage = 100 * float(part)/float(whole)\n",
    "    return round(percentage,2)\n",
    "\n",
    "# print(percentage(3, 5))"
   ]
  },
  {
   "cell_type": "code",
   "execution_count": 29,
   "metadata": {},
   "outputs": [],
   "source": [
    "male_percent_list = []\n",
    "female_percent_list = []\n",
    "unknown_percent_list = []\n",
    "for index, row in final_df.iterrows():\n",
    "    male_percent = percentage(row['Male'], row['Total_entries'])\n",
    "    female_percent = percentage(row['Female'], row['Total_entries'])\n",
    "    unknown_percent = percentage(row['Unknown'], row['Total_entries'])\n",
    "    \n",
    "    male_percent_list.append(male_percent)\n",
    "    female_percent_list.append(female_percent)\n",
    "    unknown_percent_list.append(unknown_percent)"
   ]
  },
  {
   "cell_type": "code",
   "execution_count": 30,
   "metadata": {},
   "outputs": [],
   "source": [
    "final_df['Male_percentage'] = male_percent_list\n",
    "final_df['Female_percentage'] = female_percent_list\n",
    "final_df['Unknown_percentage'] = unknown_percent_list"
   ]
  },
  {
   "cell_type": "markdown",
   "metadata": {},
   "source": [
    "# Q2"
   ]
  },
  {
   "cell_type": "code",
   "execution_count": 31,
   "metadata": {},
   "outputs": [
    {
     "data": {
      "text/plain": [
       "0        SWELLING FACE, RASH, WHEEZING, COUGH, HOSPITAL...\n",
       "1        SWELLING FACE, WHEEZING, COUGH, RASH, HOSPITAL...\n",
       "2                             NAUSEA, DYSGEUSIA, DIARRHOEA\n",
       "3                      GASTROINTESTINAL DISORDER, VOMITING\n",
       "4          GASTROINTESTINAL DISORDER, PHYSICAL EXAMINATION\n",
       "                               ...                        \n",
       "90781                                             SWELLING\n",
       "90782                                             SWELLING\n",
       "90783                                             SWELLING\n",
       "90784                            VOMITING, URTICARIA, RASH\n",
       "90785                            VOMITING, URTICARIA, RASH\n",
       "Name: SYM_One Row Coded Symptoms, Length: 90786, dtype: object"
      ]
     },
     "execution_count": 31,
     "metadata": {},
     "output_type": "execute_result"
    }
   ],
   "source": [
    "dt_symptoms = df['SYM_One Row Coded Symptoms']\n",
    "dt_symptoms"
   ]
  },
  {
   "cell_type": "code",
   "execution_count": 32,
   "metadata": {},
   "outputs": [
    {
     "data": {
      "text/plain": [
       "0        SWELLING FACE, RASH, WHEEZING, COUGH, HOSPITAL...\n",
       "1        SWELLING FACE, WHEEZING, COUGH, RASH, HOSPITAL...\n",
       "2                             NAUSEA, DYSGEUSIA, DIARRHOEA\n",
       "3                      GASTROINTESTINAL DISORDER, VOMITING\n",
       "4          GASTROINTESTINAL DISORDER, PHYSICAL EXAMINATION\n",
       "                               ...                        \n",
       "90781                                             SWELLING\n",
       "90782                                             SWELLING\n",
       "90783                                             SWELLING\n",
       "90784                            VOMITING, URTICARIA, RASH\n",
       "90785                            VOMITING, URTICARIA, RASH\n",
       "Name: SYM_One Row Coded Symptoms, Length: 90786, dtype: object"
      ]
     },
     "execution_count": 32,
     "metadata": {},
     "output_type": "execute_result"
    }
   ],
   "source": [
    "dt_symptoms"
   ]
  },
  {
   "cell_type": "code",
   "execution_count": 33,
   "metadata": {},
   "outputs": [],
   "source": [
    "symptoms_list  = []\n",
    "for i in range(0,len(dt_symptoms)):\n",
    "    temp = str(dt_symptoms[i])\n",
    "    temp = temp.split(',')\n",
    "    \n",
    "    for j in range(0,len(temp)):\n",
    "        txt = temp[j].strip()\n",
    "        temp[j] = txt\n",
    "    symptoms_list.extend(temp)"
   ]
  },
  {
   "cell_type": "code",
   "execution_count": 34,
   "metadata": {},
   "outputs": [],
   "source": [
    "symptoms_count = dict(Counter(symptoms_list))\n",
    "# print(symptoms_count)"
   ]
  },
  {
   "cell_type": "code",
   "execution_count": 35,
   "metadata": {},
   "outputs": [],
   "source": [
    "q2_final_df = pd.DataFrame([symptoms_count])"
   ]
  },
  {
   "cell_type": "code",
   "execution_count": 36,
   "metadata": {},
   "outputs": [],
   "source": [
    "q2_final_df = q2_final_df.transpose()"
   ]
  },
  {
   "cell_type": "code",
   "execution_count": 37,
   "metadata": {},
   "outputs": [],
   "source": [
    "q2_final_df.rename(columns={0: \"values\"},inplace=True)"
   ]
  },
  {
   "cell_type": "code",
   "execution_count": 38,
   "metadata": {},
   "outputs": [],
   "source": [
    "q2_final_df.sort_values('values',ascending=False,inplace=True)"
   ]
  },
  {
   "cell_type": "code",
   "execution_count": 39,
   "metadata": {},
   "outputs": [],
   "source": [
    "# fig = px.bar(q2_final_df.head(50), x=q2_final_df.index[1:51], y='values')\n",
    "# fig.show()"
   ]
  },
  {
   "cell_type": "markdown",
   "metadata": {},
   "source": [
    "# Plotly"
   ]
  },
  {
   "cell_type": "code",
   "execution_count": 40,
   "metadata": {},
   "outputs": [],
   "source": [
    "#final_df.head(10)"
   ]
  },
  {
   "cell_type": "code",
   "execution_count": 41,
   "metadata": {},
   "outputs": [],
   "source": [
    "# import plotly.graph_objects as go\n",
    "\n",
    "# fig = go.Figure(data=[\n",
    "#     go.Bar(name='Female', x=final_df.Years, y=final_df.Female_percentage),\n",
    "#     go.Bar(name='Male', x=final_df.Years, y=final_df.Male_percentage),\n",
    "#     go.Bar(name='Unknown', x=final_df.Years, y=final_df.Unknown_percentage)],\n",
    "#     layout=go.Layout(\n",
    "#         title=go.layout.Title(text=\"Percent of Adverse Events Reported Each Year by Gender\")))\n",
    "\n",
    "# # Change the bar mode\n",
    "# fig.update_layout(barmode='group')\n",
    "# fig.show()"
   ]
  },
  {
   "cell_type": "code",
   "execution_count": 42,
   "metadata": {},
   "outputs": [],
   "source": [
    "# Count_list = [final_df.Female.sum(),final_df.Male.sum(),final_df.Unknown.sum()]\n",
    "# Name = ['Female','Male','Unknown']\n",
    "# Count_list"
   ]
  },
  {
   "cell_type": "code",
   "execution_count": 43,
   "metadata": {},
   "outputs": [],
   "source": [
    "# import plotly.express as px\n",
    "# fig = px.pie(final_df,names=Name,values=Count_list,title='Percent of Adverse Events Reported all over the Years by Gender')\n",
    "# fig.show()"
   ]
  },
  {
   "cell_type": "code",
   "execution_count": 44,
   "metadata": {},
   "outputs": [],
   "source": [
    "# fig = px.bar(q2_final_df.head(50), x=q2_final_df.index[1:51], y='values')"
   ]
  },
  {
   "cell_type": "code",
   "execution_count": 45,
   "metadata": {},
   "outputs": [],
   "source": [
    "# app = dash.Dash(__name__,external_stylesheets=[dbc.themes.BOOTSTRAP])\n",
    "app = dash.Dash(__name__)"
   ]
  },
  {
   "cell_type": "code",
   "execution_count": null,
   "metadata": {},
   "outputs": [
    {
     "name": "stdout",
     "output_type": "stream",
     "text": [
      "Dash is running on http://127.0.0.1:1234/\n",
      "\n",
      "Dash is running on http://127.0.0.1:1234/\n",
      "\n",
      "Dash is running on http://127.0.0.1:1234/\n",
      "\n",
      " * Serving Flask app \"__main__\" (lazy loading)\n",
      " * Environment: production\n",
      "   WARNING: This is a development server. Do not use it in a production deployment.\n",
      "   Use a production WSGI server instead.\n",
      " * Debug mode: on\n"
     ]
    },
    {
     "name": "stderr",
     "output_type": "stream",
     "text": [
      "<ipython-input-47-6cf797bc3e2e>:141: SettingWithCopyWarning:\n",
      "\n",
      "\n",
      "A value is trying to be set on a copy of a slice from a DataFrame\n",
      "\n",
      "See the caveats in the documentation: https://pandas.pydata.org/pandas-docs/stable/user_guide/indexing.html#returning-a-view-versus-a-copy\n",
      "\n",
      "<ipython-input-47-6cf797bc3e2e>:139: SettingWithCopyWarning:\n",
      "\n",
      "\n",
      "A value is trying to be set on a copy of a slice from a DataFrame\n",
      "\n",
      "See the caveats in the documentation: https://pandas.pydata.org/pandas-docs/stable/user_guide/indexing.html#returning-a-view-versus-a-copy\n",
      "\n"
     ]
    }
   ],
   "source": [
    "BS = \"https://cdn.jsdelivr.net/npm/bootstrap@5.1.0/dist/css/bootstrap.min.css\"\n",
    "app = dash.Dash(__name__,external_stylesheets=[BS])\n",
    "app.layout = html.Div([\n",
    "    html.H2(\n",
    "        className='q1Header',\n",
    "        children='Q1. Percent of Adverse Events Reported Each Year by Gender'),\n",
    "    html.Div([\n",
    "        html.Table([\n",
    "            html.Tr([\n",
    "                html.Td(html.P(className='From', children='From : ')),\n",
    "                html.Td(\n",
    "                    dcc.Dropdown(className='from_year_dropdown',\n",
    "                                 id='from-year-dropdown',\n",
    "                                 options=[{\n",
    "                                     'label': year,\n",
    "                                     'value': year\n",
    "                                 } for year in final_df.Years],\n",
    "                                 value=final_df.Years.max() - 10,\n",
    "                                 clearable=False)),\n",
    "                html.Td(html.P(className='To', children='To : ')),\n",
    "                html.Td(\n",
    "                    dcc.Dropdown(className='to_year_dropdown',\n",
    "                                 id='to-year-dropdown',\n",
    "                                 options=[{\n",
    "                                     'label': year,\n",
    "                                     'value': year\n",
    "                                 } for year in final_df.Years],\n",
    "                                 value=final_df.Years.max(),\n",
    "                                 clearable=False))\n",
    "            ])\n",
    "        ])\n",
    "    ]),\n",
    "    html.Div([\n",
    "        html.Div(className=\"q1_bar_chart\",\n",
    "                 children=[dcc.Graph(id='q1_bar_graph')]),\n",
    "        html.Div(className=\"q1_pie_chart\",\n",
    "                 children=[dcc.Graph(id='q1_pie_graph')])\n",
    "    ]),\n",
    "    html.Div([html.Hr(className='Q_hr')]),\n",
    "    html.Div([\n",
    "        html.H2(\n",
    "            className='q2Header',\n",
    "            children='Q2. Most frequently Reported Symptoms over entire span'),\n",
    "        html.Div(className='q2_graph',\n",
    "                 children=[dcc.Graph(id='q2_bar_chart')]),\n",
    "        html.Div(className='q2_graph_filters',\n",
    "                 children=[\n",
    "                     html.Div([html.P(className='filter',\n",
    "                                      children='Filters')]),\n",
    "                     html.Div([\n",
    "                     html.Div(className='start',\n",
    "                              children=[\n",
    "                                  dcc.Input(id='start',\n",
    "                                            type='number',\n",
    "                                            placeholder='Eg.1',\n",
    "                                            value=1)\n",
    "                              ]),\n",
    "                     html.Div(className='end',\n",
    "                              children=[\n",
    "                                  dcc.Input(id='end',\n",
    "                                            type='number',\n",
    "                                            placeholder='Eg.10',\n",
    "                                            value=10)\n",
    "                              ])\n",
    "                     ]),\n",
    "                     html.Br(),\n",
    "                     html.Div(className = 'sort_head',\n",
    "                              children = 'Sort'),\n",
    "                     html.Div(className='q2_radio',\n",
    "                              children=[\n",
    "                                  dcc.RadioItems(id = 'q2_radio',\n",
    "                                                 options=[{\n",
    "                                      'label': 'High To Low',\n",
    "                                      'value': 'high2low'\n",
    "                                  }, {\n",
    "                                      'label': 'Low To High',\n",
    "                                      'value': 'low2high'\n",
    "                                  }],\n",
    "                                    value='high2low')\n",
    "                              ])\n",
    "                 ])\n",
    "    ])\n",
    "])\n",
    "\n",
    "\n",
    "@app.callback(\n",
    "    [Output('q1_bar_graph', 'figure'),\n",
    "     Output('q1_pie_graph', 'figure')],\n",
    "    [Input('from-year-dropdown', 'value'),\n",
    "     Input('to-year-dropdown', 'value')])\n",
    "def update_q1_bar_pie_chart(from_value, to_value):\n",
    "    \n",
    "    if from_value > to_value:\n",
    "        raise PreventUpdate\n",
    "    \n",
    "    colors = ['rgb(239, 85, 59)', 'rgb(99, 110, 250)', 'rgb(0, 204, 150)']\n",
    "\n",
    "    temp_df = final_df[(final_df.Years >= int(from_value))\n",
    "                       & (final_df.Years <= int(to_value))]\n",
    "\n",
    "    #Bar Chart\n",
    "    fig_bar = go.Figure(data=[\n",
    "        go.Bar(name='Male', x=temp_df.Years, y=temp_df.Male_percentage),\n",
    "        go.Bar(name='Female', x=temp_df.Years, y=temp_df.Female_percentage),\n",
    "        go.Bar(name='Unknown', x=temp_df.Years, y=temp_df.Unknown_percentage)\n",
    "    ])\n",
    "\n",
    "    fig_bar.update_layout(barmode='group')\n",
    "    fig_bar.update_layout(showlegend=False)\n",
    "\n",
    "    #Pie Chart\n",
    "    Count_list = [\n",
    "        temp_df.Male.sum(),\n",
    "        temp_df.Female.sum(),\n",
    "        temp_df.Unknown.sum()\n",
    "    ]\n",
    "    Name = ['Male', 'Female', 'Unknown']\n",
    "    fig_pie = px.pie(final_df,\n",
    "                     names=Name,\n",
    "                     values=Count_list,\n",
    "                     color_discrete_sequence=colors)\n",
    "\n",
    "    fig_pie.update_layout(legend_title_text='Gender')\n",
    "\n",
    "    return fig_bar, fig_pie\n",
    "\n",
    "\n",
    "@app.callback(\n",
    "    Output('q2_bar_chart', 'figure'),\n",
    "    [Input('start', 'value'),\n",
    "     Input('end', 'value'),\n",
    "     Input('q2_radio','value')])\n",
    "def Update_q2_bar_chart(start, end, sort):\n",
    "    if (start is None) | (end is None) | (start > end):\n",
    "        raise PreventUpdate\n",
    "        \n",
    "    slice_df = q2_final_df[start:end + 1]\n",
    "    if(sort == 'low2high'):\n",
    "        slice_df.sort_values('values', ascending=False, inplace=True)\n",
    "    if(sort == 'high2low'):\n",
    "        slice_df.sort_values('values', ascending=True, inplace=True)\n",
    "\n",
    "    fig_bar = px.bar(slice_df,\n",
    "                     x='values',\n",
    "                     y=slice_df.index,\n",
    "                    orientation='h')\n",
    "    return fig_bar\n",
    "\n",
    "\n",
    "if __name__ == '__main__':\n",
    "    app.run_server(debug=True, use_reloader=False, port='1234')"
   ]
  },
  {
   "cell_type": "code",
   "execution_count": null,
   "metadata": {},
   "outputs": [],
   "source": []
  },
  {
   "cell_type": "code",
   "execution_count": null,
   "metadata": {},
   "outputs": [],
   "source": []
  },
  {
   "cell_type": "code",
   "execution_count": null,
   "metadata": {},
   "outputs": [],
   "source": []
  },
  {
   "cell_type": "code",
   "execution_count": null,
   "metadata": {},
   "outputs": [],
   "source": []
  },
  {
   "cell_type": "code",
   "execution_count": null,
   "metadata": {},
   "outputs": [],
   "source": []
  }
 ],
 "metadata": {
  "colab": {
   "name": "Novo Nordisk competition.ipynb",
   "provenance": []
  },
  "interpreter": {
   "hash": "5a7cffd829ff8a6968e2d5e1953aff86dde354d120c5df81602b8bd4171ab4c7"
  },
  "kernelspec": {
   "display_name": "Python 3",
   "language": "python",
   "name": "python3"
  },
  "language_info": {
   "codemirror_mode": {
    "name": "ipython",
    "version": 3
   },
   "file_extension": ".py",
   "mimetype": "text/x-python",
   "name": "python",
   "nbconvert_exporter": "python",
   "pygments_lexer": "ipython3",
   "version": "3.8.8"
  },
  "widgets": {
   "application/vnd.jupyter.widget-state+json": {
    "state": {},
    "version_major": 2,
    "version_minor": 0
   }
  }
 },
 "nbformat": 4,
 "nbformat_minor": 4
}
