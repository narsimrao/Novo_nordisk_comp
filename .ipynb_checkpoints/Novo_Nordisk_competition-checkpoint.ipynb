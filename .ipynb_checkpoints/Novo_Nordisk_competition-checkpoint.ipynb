{
 "cells": [
  {
   "cell_type": "code",
   "execution_count": 6,
   "metadata": {
    "id": "czsk-LGqu_vZ"
   },
   "outputs": [],
   "source": [
    "import pandas as pd\n",
    "import numpy as np\n",
    "from collections import Counter\n",
    "import math\n",
    "import webbrowser"
   ]
  },
  {
   "cell_type": "code",
   "execution_count": 7,
   "metadata": {},
   "outputs": [],
   "source": [
    "import dash\n",
    "from dash import dcc, html\n",
    "from dash.exceptions import PreventUpdate\n",
    "from dash.dependencies import Input, Output\n",
    "import plotly.express as px\n",
    "import plotly.graph_objects as go\n",
    "import dash_bootstrap_components as dbc\n",
    "from plotly.subplots import make_subplots"
   ]
  },
  {
   "cell_type": "code",
   "execution_count": 8,
   "metadata": {
    "colab": {
     "base_uri": "https://localhost:8080/",
     "height": 527
    },
    "id": "8MXFNRNyvTyp",
    "outputId": "7d33bec3-d2b3-40b5-cb9c-a397827663bf"
   },
   "outputs": [
    {
     "data": {
      "text/html": [
       "<div>\n",
       "<style scoped>\n",
       "    .dataframe tbody tr th:only-of-type {\n",
       "        vertical-align: middle;\n",
       "    }\n",
       "\n",
       "    .dataframe tbody tr th {\n",
       "        vertical-align: top;\n",
       "    }\n",
       "\n",
       "    .dataframe thead th {\n",
       "        text-align: right;\n",
       "    }\n",
       "</style>\n",
       "<table border=\"1\" class=\"dataframe\">\n",
       "  <thead>\n",
       "    <tr style=\"text-align: right;\">\n",
       "      <th></th>\n",
       "      <th>RA_Report #</th>\n",
       "      <th>RA_CAERS Created Date</th>\n",
       "      <th>AEC_Event Start Date</th>\n",
       "      <th>PRI_Product Role</th>\n",
       "      <th>PRI_Reported Brand/Product Name</th>\n",
       "      <th>PRI_FDA Industry Code</th>\n",
       "      <th>PRI_FDA Industry Name</th>\n",
       "      <th>CI_Age at Adverse Event</th>\n",
       "      <th>CI_Age Unit</th>\n",
       "      <th>CI_Gender</th>\n",
       "      <th>AEC_One Row Outcomes</th>\n",
       "      <th>SYM_One Row Coded Symptoms</th>\n",
       "    </tr>\n",
       "  </thead>\n",
       "  <tbody>\n",
       "    <tr>\n",
       "      <th>0</th>\n",
       "      <td>65325</td>\n",
       "      <td>01-01-2004</td>\n",
       "      <td>08-04-2003</td>\n",
       "      <td>Suspect</td>\n",
       "      <td>MIDWEST COUNTRY FAIR CHOCOLATE FLAVORED CHIPS</td>\n",
       "      <td>3</td>\n",
       "      <td>Bakery Prod/Dough/Mix/Icing</td>\n",
       "      <td>2.0</td>\n",
       "      <td>Year(s)</td>\n",
       "      <td>Female</td>\n",
       "      <td>VISITED AN ER, VISITED A HEALTH CARE PROVIDER,...</td>\n",
       "      <td>SWELLING FACE, RASH, WHEEZING, COUGH, HOSPITAL...</td>\n",
       "    </tr>\n",
       "    <tr>\n",
       "      <th>1</th>\n",
       "      <td>65325</td>\n",
       "      <td>01-01-2004</td>\n",
       "      <td>08-04-2003</td>\n",
       "      <td>Suspect</td>\n",
       "      <td>MIDWEST COUNTRY FAIR CHOCOLATE FLAVORED CHIPS</td>\n",
       "      <td>3</td>\n",
       "      <td>Bakery Prod/Dough/Mix/Icing</td>\n",
       "      <td>2.0</td>\n",
       "      <td>Year(s)</td>\n",
       "      <td>Female</td>\n",
       "      <td>VISITED AN ER, VISITED A HEALTH CARE PROVIDER,...</td>\n",
       "      <td>SWELLING FACE, WHEEZING, COUGH, RASH, HOSPITAL...</td>\n",
       "    </tr>\n",
       "    <tr>\n",
       "      <th>2</th>\n",
       "      <td>65333</td>\n",
       "      <td>01-01-2004</td>\n",
       "      <td>NaN</td>\n",
       "      <td>Suspect</td>\n",
       "      <td>KROGER CLASSIC CREAM-DE-MINT CANDY MINT CHIP I...</td>\n",
       "      <td>13</td>\n",
       "      <td>Ice Cream Prod</td>\n",
       "      <td>NaN</td>\n",
       "      <td>Not Available</td>\n",
       "      <td>Female</td>\n",
       "      <td>VISITED AN ER</td>\n",
       "      <td>NAUSEA, DYSGEUSIA, DIARRHOEA</td>\n",
       "    </tr>\n",
       "    <tr>\n",
       "      <th>3</th>\n",
       "      <td>65335</td>\n",
       "      <td>01-01-2004</td>\n",
       "      <td>11/24/2003</td>\n",
       "      <td>Suspect</td>\n",
       "      <td>ENFAMIL LIPIL BABY FORMULA</td>\n",
       "      <td>40</td>\n",
       "      <td>Baby Food Prod</td>\n",
       "      <td>3.0</td>\n",
       "      <td>Month(s)</td>\n",
       "      <td>Not Available</td>\n",
       "      <td>NON-SERIOUS INJURIES/ ILLNESS</td>\n",
       "      <td>GASTROINTESTINAL DISORDER, VOMITING</td>\n",
       "    </tr>\n",
       "    <tr>\n",
       "      <th>4</th>\n",
       "      <td>65336</td>\n",
       "      <td>01-01-2004</td>\n",
       "      <td>NaN</td>\n",
       "      <td>Suspect</td>\n",
       "      <td>ENFIMIL LIPIL BABY FORMULA</td>\n",
       "      <td>40</td>\n",
       "      <td>Baby Food Prod</td>\n",
       "      <td>NaN</td>\n",
       "      <td>Not Available</td>\n",
       "      <td>Not Available</td>\n",
       "      <td>VISITED A HEALTH CARE PROVIDER</td>\n",
       "      <td>GASTROINTESTINAL DISORDER, PHYSICAL EXAMINATION</td>\n",
       "    </tr>\n",
       "  </tbody>\n",
       "</table>\n",
       "</div>"
      ],
      "text/plain": [
       "   RA_Report # RA_CAERS Created Date AEC_Event Start Date PRI_Product Role  \\\n",
       "0        65325            01-01-2004           08-04-2003          Suspect   \n",
       "1        65325            01-01-2004           08-04-2003          Suspect   \n",
       "2        65333            01-01-2004                  NaN          Suspect   \n",
       "3        65335            01-01-2004           11/24/2003          Suspect   \n",
       "4        65336            01-01-2004                  NaN          Suspect   \n",
       "\n",
       "                     PRI_Reported Brand/Product Name  PRI_FDA Industry Code  \\\n",
       "0      MIDWEST COUNTRY FAIR CHOCOLATE FLAVORED CHIPS                      3   \n",
       "1      MIDWEST COUNTRY FAIR CHOCOLATE FLAVORED CHIPS                      3   \n",
       "2  KROGER CLASSIC CREAM-DE-MINT CANDY MINT CHIP I...                     13   \n",
       "3                         ENFAMIL LIPIL BABY FORMULA                     40   \n",
       "4                         ENFIMIL LIPIL BABY FORMULA                     40   \n",
       "\n",
       "         PRI_FDA Industry Name  CI_Age at Adverse Event    CI_Age Unit  \\\n",
       "0  Bakery Prod/Dough/Mix/Icing                      2.0        Year(s)   \n",
       "1  Bakery Prod/Dough/Mix/Icing                      2.0        Year(s)   \n",
       "2               Ice Cream Prod                      NaN  Not Available   \n",
       "3               Baby Food Prod                      3.0       Month(s)   \n",
       "4               Baby Food Prod                      NaN  Not Available   \n",
       "\n",
       "       CI_Gender                               AEC_One Row Outcomes  \\\n",
       "0         Female  VISITED AN ER, VISITED A HEALTH CARE PROVIDER,...   \n",
       "1         Female  VISITED AN ER, VISITED A HEALTH CARE PROVIDER,...   \n",
       "2         Female                                      VISITED AN ER   \n",
       "3  Not Available                      NON-SERIOUS INJURIES/ ILLNESS   \n",
       "4  Not Available                     VISITED A HEALTH CARE PROVIDER   \n",
       "\n",
       "                          SYM_One Row Coded Symptoms  \n",
       "0  SWELLING FACE, RASH, WHEEZING, COUGH, HOSPITAL...  \n",
       "1  SWELLING FACE, WHEEZING, COUGH, RASH, HOSPITAL...  \n",
       "2                       NAUSEA, DYSGEUSIA, DIARRHOEA  \n",
       "3                GASTROINTESTINAL DISORDER, VOMITING  \n",
       "4    GASTROINTESTINAL DISORDER, PHYSICAL EXAMINATION  "
      ]
     },
     "execution_count": 8,
     "metadata": {},
     "output_type": "execute_result"
    }
   ],
   "source": [
    "df = pd.read_csv('CAERS_ASCII_2004_2017Q2.csv')\n",
    "df.head()"
   ]
  },
  {
   "cell_type": "code",
   "execution_count": 9,
   "metadata": {
    "colab": {
     "base_uri": "https://localhost:8080/"
    },
    "id": "E8hD6KZVvmXh",
    "outputId": "58359cde-2e3a-4b80-9557-0d3a1ed2b08c"
   },
   "outputs": [],
   "source": [
    "temp_df = df.copy()"
   ]
  },
  {
   "cell_type": "markdown",
   "metadata": {},
   "source": [
    "# Q1"
   ]
  },
  {
   "cell_type": "code",
   "execution_count": 10,
   "metadata": {},
   "outputs": [],
   "source": [
    "temp_df['AEC_Event Start Date'] = pd.to_datetime(temp_df['AEC_Event Start Date'])"
   ]
  },
  {
   "cell_type": "code",
   "execution_count": 11,
   "metadata": {},
   "outputs": [
    {
     "data": {
      "text/plain": [
       "array(['Female', 'Not Available', 'Male', 'Unknown', 'Not Reported'],\n",
       "      dtype=object)"
      ]
     },
     "execution_count": 11,
     "metadata": {},
     "output_type": "execute_result"
    }
   ],
   "source": [
    "temp_df['CI_Gender'].unique()"
   ]
  },
  {
   "cell_type": "code",
   "execution_count": 12,
   "metadata": {},
   "outputs": [],
   "source": [
    "for name in temp_df['CI_Gender'].unique():\n",
    "    if(name == 'Female'):\n",
    "        temp_df['CI_Gender'] = temp_df['CI_Gender'].replace(name,0)\n",
    "    elif(name == 'Male'):\n",
    "        temp_df['CI_Gender'] = temp_df['CI_Gender'].replace(name,1)\n",
    "    else:\n",
    "        temp_df['CI_Gender'] = temp_df['CI_Gender'].replace(name,2)\n",
    "temp_df = temp_df.replace(' ',np.nan)"
   ]
  },
  {
   "cell_type": "code",
   "execution_count": 13,
   "metadata": {},
   "outputs": [
    {
     "data": {
      "text/plain": [
       "array([0, 2, 1], dtype=int64)"
      ]
     },
     "execution_count": 13,
     "metadata": {},
     "output_type": "execute_result"
    }
   ],
   "source": [
    "temp_df['CI_Gender'].unique()"
   ]
  },
  {
   "cell_type": "code",
   "execution_count": 14,
   "metadata": {
    "id": "PmtXS0ADyG5J"
   },
   "outputs": [],
   "source": [
    "# df['CI_Gender'] = df['CI_Gender'].replace('Female',0)\n",
    "# df['CI_Gender'] = df['CI_Gender'].replace('Male',1)\n",
    "\n"
   ]
  },
  {
   "cell_type": "code",
   "execution_count": 15,
   "metadata": {
    "colab": {
     "base_uri": "https://localhost:8080/",
     "height": 779
    },
    "id": "8eSr7ROPWpHm",
    "outputId": "39d90904-b44c-4769-dd04-276245425b9d"
   },
   "outputs": [
    {
     "data": {
      "text/plain": [
       "(53653, 12)"
      ]
     },
     "execution_count": 15,
     "metadata": {},
     "output_type": "execute_result"
    }
   ],
   "source": [
    "temp_df['AEC_Event Start Date'].replace('', np.nan, inplace=True)\n",
    "temp_df.dropna(subset=['AEC_Event Start Date'], inplace=True)\n",
    "temp_df.shape"
   ]
  },
  {
   "cell_type": "code",
   "execution_count": 16,
   "metadata": {},
   "outputs": [],
   "source": [
    "data = temp_df[['AEC_Event Start Date','CI_Gender']]"
   ]
  },
  {
   "cell_type": "code",
   "execution_count": 17,
   "metadata": {},
   "outputs": [],
   "source": [
    "data.to_csv('q1.csv',index=False)"
   ]
  },
  {
   "cell_type": "code",
   "execution_count": 18,
   "metadata": {},
   "outputs": [],
   "source": [
    "dt = pd.read_csv('q1.csv')"
   ]
  },
  {
   "cell_type": "code",
   "execution_count": null,
   "metadata": {},
   "outputs": [],
   "source": []
  },
  {
   "cell_type": "code",
   "execution_count": 19,
   "metadata": {},
   "outputs": [],
   "source": [
    "years = []\n",
    "for i in range(0,dt['AEC_Event Start Date'].shape[0]):\n",
    "    date = pd.to_datetime(dt['AEC_Event Start Date'][i])\n",
    "    date = str(date).split()[0]\n",
    "    year = pd.to_numeric(date.split('-')[0])\n",
    "    years.append(year)"
   ]
  },
  {
   "cell_type": "code",
   "execution_count": 20,
   "metadata": {},
   "outputs": [],
   "source": [
    "dt['years'] = years"
   ]
  },
  {
   "cell_type": "code",
   "execution_count": 21,
   "metadata": {},
   "outputs": [
    {
     "data": {
      "text/html": [
       "<div>\n",
       "<style scoped>\n",
       "    .dataframe tbody tr th:only-of-type {\n",
       "        vertical-align: middle;\n",
       "    }\n",
       "\n",
       "    .dataframe tbody tr th {\n",
       "        vertical-align: top;\n",
       "    }\n",
       "\n",
       "    .dataframe thead th {\n",
       "        text-align: right;\n",
       "    }\n",
       "</style>\n",
       "<table border=\"1\" class=\"dataframe\">\n",
       "  <thead>\n",
       "    <tr style=\"text-align: right;\">\n",
       "      <th></th>\n",
       "      <th>AEC_Event Start Date</th>\n",
       "      <th>CI_Gender</th>\n",
       "      <th>years</th>\n",
       "    </tr>\n",
       "  </thead>\n",
       "  <tbody>\n",
       "    <tr>\n",
       "      <th>0</th>\n",
       "      <td>2003-08-04</td>\n",
       "      <td>0</td>\n",
       "      <td>2003</td>\n",
       "    </tr>\n",
       "    <tr>\n",
       "      <th>1</th>\n",
       "      <td>2003-08-04</td>\n",
       "      <td>0</td>\n",
       "      <td>2003</td>\n",
       "    </tr>\n",
       "  </tbody>\n",
       "</table>\n",
       "</div>"
      ],
      "text/plain": [
       "  AEC_Event Start Date  CI_Gender  years\n",
       "0           2003-08-04          0   2003\n",
       "1           2003-08-04          0   2003"
      ]
     },
     "execution_count": 21,
     "metadata": {},
     "output_type": "execute_result"
    }
   ],
   "source": [
    "dt.head(2)"
   ]
  },
  {
   "cell_type": "code",
   "execution_count": 22,
   "metadata": {},
   "outputs": [],
   "source": [
    "data_count_by_year = dt.groupby('years')['CI_Gender'].count()"
   ]
  },
  {
   "cell_type": "code",
   "execution_count": 23,
   "metadata": {},
   "outputs": [],
   "source": [
    "data_count_by_year = data_count_by_year.to_dict()"
   ]
  },
  {
   "cell_type": "code",
   "execution_count": 24,
   "metadata": {},
   "outputs": [
    {
     "name": "stdout",
     "output_type": "stream",
     "text": [
      "<class 'pandas.core.frame.DataFrame'>\n",
      "RangeIndex: 53653 entries, 0 to 53652\n",
      "Data columns (total 3 columns):\n",
      " #   Column                Non-Null Count  Dtype \n",
      "---  ------                --------------  ----- \n",
      " 0   AEC_Event Start Date  53653 non-null  object\n",
      " 1   CI_Gender             53653 non-null  int64 \n",
      " 2   years                 53653 non-null  int64 \n",
      "dtypes: int64(2), object(1)\n",
      "memory usage: 1.2+ MB\n"
     ]
    }
   ],
   "source": [
    "# dt = dt[(dt['CI_Gender'].str.contains('0', na=False)) | (dt['CI_Gender'].str.contains('1', na=False))]\n",
    "dt.info()"
   ]
  },
  {
   "cell_type": "code",
   "execution_count": 25,
   "metadata": {},
   "outputs": [
    {
     "name": "stdout",
     "output_type": "stream",
     "text": [
      "<class 'pandas.core.frame.DataFrame'>\n",
      "RangeIndex: 53653 entries, 0 to 53652\n",
      "Data columns (total 3 columns):\n",
      " #   Column                Non-Null Count  Dtype \n",
      "---  ------                --------------  ----- \n",
      " 0   AEC_Event Start Date  53653 non-null  object\n",
      " 1   CI_Gender             53653 non-null  int64 \n",
      " 2   years                 53653 non-null  int64 \n",
      "dtypes: int64(2), object(1)\n",
      "memory usage: 1.2+ MB\n"
     ]
    }
   ],
   "source": [
    "dt['CI_Gender'] = pd.to_numeric(dt['CI_Gender'])\n",
    "dt.info()"
   ]
  },
  {
   "cell_type": "code",
   "execution_count": 26,
   "metadata": {},
   "outputs": [],
   "source": [
    "dt.index = dt['years']"
   ]
  },
  {
   "cell_type": "code",
   "execution_count": 27,
   "metadata": {},
   "outputs": [],
   "source": [
    "dt_zeros = dt.where(dt['CI_Gender'] == 0)\n",
    "dt_ones = dt.where(dt['CI_Gender'] == 1)\n",
    "dt_unknown = dt.where(dt['CI_Gender'] == 2)"
   ]
  },
  {
   "cell_type": "code",
   "execution_count": 28,
   "metadata": {},
   "outputs": [],
   "source": [
    "dt_zeros = dt_zeros.dropna()\n",
    "dt_ones = dt_ones.dropna()\n",
    "dt_unknown = dt_unknown.dropna()"
   ]
  },
  {
   "cell_type": "code",
   "execution_count": 29,
   "metadata": {},
   "outputs": [],
   "source": [
    "dt_zeros = dt_zeros.groupby(dt_zeros.index)['CI_Gender'].count()\n",
    "dt_ones = dt_ones.groupby(dt_ones.index)['CI_Gender'].count()\n",
    "dt_unknown = dt_unknown.groupby(dt_unknown.index)['CI_Gender'].count()"
   ]
  },
  {
   "cell_type": "code",
   "execution_count": 30,
   "metadata": {},
   "outputs": [],
   "source": [
    "dt_zeros_female = dt_zeros.to_dict()\n",
    "dt_ones_male = dt_ones.to_dict()\n",
    "dt_twos_unknown = dt_unknown.to_dict()"
   ]
  },
  {
   "cell_type": "code",
   "execution_count": 31,
   "metadata": {},
   "outputs": [],
   "source": [
    "years = []\n",
    "total_entries = []\n",
    "male = []\n",
    "female = []\n",
    "unknown = []\n",
    "\n",
    "for key,value in data_count_by_year.items():\n",
    "    #Female\n",
    "    if key in dt_zeros_female:\n",
    "        female.append(dt_zeros_female[key])\n",
    "    else:\n",
    "        female.append(0)\n",
    "\n",
    "    #Male\n",
    "    if key in dt_ones_male:\n",
    "        male.append(dt_ones_male[key])\n",
    "    else:\n",
    "        male.append(0)\n",
    "\n",
    "    #Unknown\n",
    "    if key in dt_twos_unknown:\n",
    "        unknown.append(dt_twos_unknown[key])\n",
    "    else:\n",
    "        unknown.append(0)\n",
    "    years.append(key)\n",
    "    total_entries.append(value)\n"
   ]
  },
  {
   "cell_type": "code",
   "execution_count": 32,
   "metadata": {},
   "outputs": [],
   "source": [
    "d = {'Years' : years,\n",
    "    'Male' : male,\n",
    "    'Female' : female,\n",
    "    'Unknown' : unknown,\n",
    "    'Total_entries' : total_entries}\n",
    "q1_final_df = pd.DataFrame(d)"
   ]
  },
  {
   "cell_type": "code",
   "execution_count": 33,
   "metadata": {},
   "outputs": [],
   "source": [
    "def percentage(part, whole):\n",
    "    percentage = 100 * float(part)/float(whole)\n",
    "    return round(percentage,2)\n",
    "\n",
    "# print(percentage(3, 5))"
   ]
  },
  {
   "cell_type": "code",
   "execution_count": 34,
   "metadata": {},
   "outputs": [],
   "source": [
    "male_percent_list = []\n",
    "female_percent_list = []\n",
    "unknown_percent_list = []\n",
    "for index, row in q1_final_df.iterrows():\n",
    "    male_percent = percentage(row['Male'], row['Total_entries'])\n",
    "    female_percent = percentage(row['Female'], row['Total_entries'])\n",
    "    unknown_percent = percentage(row['Unknown'], row['Total_entries'])\n",
    "    \n",
    "    male_percent_list.append(male_percent)\n",
    "    female_percent_list.append(female_percent)\n",
    "    unknown_percent_list.append(unknown_percent)"
   ]
  },
  {
   "cell_type": "code",
   "execution_count": 35,
   "metadata": {},
   "outputs": [],
   "source": [
    "q1_final_df['Male_percentage'] = male_percent_list\n",
    "q1_final_df['Female_percentage'] = female_percent_list\n",
    "q1_final_df['Unknown_percentage'] = unknown_percent_list"
   ]
  },
  {
   "cell_type": "markdown",
   "metadata": {},
   "source": [
    "# Q2"
   ]
  },
  {
   "cell_type": "code",
   "execution_count": 36,
   "metadata": {},
   "outputs": [
    {
     "data": {
      "text/plain": [
       "0        SWELLING FACE, RASH, WHEEZING, COUGH, HOSPITAL...\n",
       "1        SWELLING FACE, WHEEZING, COUGH, RASH, HOSPITAL...\n",
       "2                             NAUSEA, DYSGEUSIA, DIARRHOEA\n",
       "3                      GASTROINTESTINAL DISORDER, VOMITING\n",
       "4          GASTROINTESTINAL DISORDER, PHYSICAL EXAMINATION\n",
       "                               ...                        \n",
       "90781                                             SWELLING\n",
       "90782                                             SWELLING\n",
       "90783                                             SWELLING\n",
       "90784                            VOMITING, URTICARIA, RASH\n",
       "90785                            VOMITING, URTICARIA, RASH\n",
       "Name: SYM_One Row Coded Symptoms, Length: 90786, dtype: object"
      ]
     },
     "execution_count": 36,
     "metadata": {},
     "output_type": "execute_result"
    }
   ],
   "source": [
    "dt_symptoms = df['SYM_One Row Coded Symptoms']\n",
    "dt_symptoms"
   ]
  },
  {
   "cell_type": "code",
   "execution_count": 37,
   "metadata": {},
   "outputs": [],
   "source": [
    "symptoms_list  = []\n",
    "for i in range(0,len(dt_symptoms)):\n",
    "    temp = str(dt_symptoms[i])\n",
    "    temp = temp.split(',')\n",
    "    \n",
    "    for j in range(0,len(temp)):\n",
    "        txt = temp[j].strip()\n",
    "        temp[j] = txt\n",
    "    symptoms_list.extend(temp)"
   ]
  },
  {
   "cell_type": "code",
   "execution_count": 38,
   "metadata": {},
   "outputs": [],
   "source": [
    "symptoms_count = dict(Counter(symptoms_list))\n",
    "# print(symptoms_count)"
   ]
  },
  {
   "cell_type": "code",
   "execution_count": 39,
   "metadata": {},
   "outputs": [],
   "source": [
    "q2_final_df = pd.DataFrame([symptoms_count])"
   ]
  },
  {
   "cell_type": "code",
   "execution_count": 40,
   "metadata": {},
   "outputs": [],
   "source": [
    "q2_final_df = q2_final_df.transpose()"
   ]
  },
  {
   "cell_type": "code",
   "execution_count": 41,
   "metadata": {},
   "outputs": [],
   "source": [
    "q2_final_df.rename(columns={0: \"values\"},inplace=True)"
   ]
  },
  {
   "cell_type": "code",
   "execution_count": 42,
   "metadata": {},
   "outputs": [],
   "source": [
    "q2_final_df.sort_values('values',ascending=False,inplace=True)"
   ]
  },
  {
   "cell_type": "markdown",
   "metadata": {},
   "source": [
    "# Q3"
   ]
  },
  {
   "cell_type": "code",
   "execution_count": 43,
   "metadata": {},
   "outputs": [],
   "source": [
    "third_df = df.copy()"
   ]
  },
  {
   "cell_type": "code",
   "execution_count": 44,
   "metadata": {},
   "outputs": [
    {
     "data": {
      "text/plain": [
       "Index(['RA_Report #', 'RA_CAERS Created Date', 'AEC_Event Start Date',\n",
       "       'PRI_Product Role', 'PRI_Reported Brand/Product Name',\n",
       "       'PRI_FDA Industry Code', 'PRI_FDA Industry Name',\n",
       "       'CI_Age at Adverse Event', 'CI_Age Unit', 'CI_Gender',\n",
       "       'AEC_One Row Outcomes', 'SYM_One Row Coded Symptoms'],\n",
       "      dtype='object')"
      ]
     },
     "execution_count": 44,
     "metadata": {},
     "output_type": "execute_result"
    }
   ],
   "source": [
    "third_df.columns"
   ]
  },
  {
   "cell_type": "code",
   "execution_count": 45,
   "metadata": {},
   "outputs": [],
   "source": [
    "q3_final_df = pd.DataFrame()"
   ]
  },
  {
   "cell_type": "code",
   "execution_count": null,
   "metadata": {},
   "outputs": [],
   "source": []
  },
  {
   "cell_type": "code",
   "execution_count": 46,
   "metadata": {
    "code_folding": []
   },
   "outputs": [],
   "source": [
    "for industry in third_df['PRI_FDA Industry Name'].unique():\n",
    "    temp_looped_df = pd.DataFrame()\n",
    "    temp_df = third_df[third_df['PRI_FDA Industry Name'] == industry]\n",
    "\n",
    "    events_splitted_lst = []\n",
    "    for colval in temp_df['AEC_One Row Outcomes']:\n",
    "        temp = colval.split(',')\n",
    "        \n",
    "        for j in range(0,len(temp)):\n",
    "            txt = temp[j].strip()\n",
    "            temp[j] = txt \n",
    "        events_splitted_lst.extend(temp)\n",
    "\n",
    "    Events_count = dict(Counter(events_splitted_lst))\n",
    "\n",
    "    Industry_name = []\n",
    "    event = []\n",
    "    counts = []\n",
    "    for key,value in Events_count.items():\n",
    "        Industry_name.append(industry)\n",
    "        event.append(key)\n",
    "        counts.append(value)\n",
    "\n",
    "    dic = {\n",
    "    'Industry Name' : Industry_name,\n",
    "    'Events' : event,\n",
    "    'Count' : counts\n",
    "    }\n",
    "\n",
    "    temp_looped_df = pd.DataFrame(dic)\n",
    "    q3_final_df = q3_final_df.append(temp_looped_df)"
   ]
  },
  {
   "cell_type": "code",
   "execution_count": 47,
   "metadata": {},
   "outputs": [
    {
     "data": {
      "text/html": [
       "<div>\n",
       "<style scoped>\n",
       "    .dataframe tbody tr th:only-of-type {\n",
       "        vertical-align: middle;\n",
       "    }\n",
       "\n",
       "    .dataframe tbody tr th {\n",
       "        vertical-align: top;\n",
       "    }\n",
       "\n",
       "    .dataframe thead th {\n",
       "        text-align: right;\n",
       "    }\n",
       "</style>\n",
       "<table border=\"1\" class=\"dataframe\">\n",
       "  <thead>\n",
       "    <tr style=\"text-align: right;\">\n",
       "      <th></th>\n",
       "      <th>Industry Name</th>\n",
       "      <th>Events</th>\n",
       "      <th>Count</th>\n",
       "    </tr>\n",
       "  </thead>\n",
       "  <tbody>\n",
       "    <tr>\n",
       "      <th>0</th>\n",
       "      <td>Bakery Prod/Dough/Mix/Icing</td>\n",
       "      <td>VISITED AN ER</td>\n",
       "      <td>371</td>\n",
       "    </tr>\n",
       "    <tr>\n",
       "      <th>1</th>\n",
       "      <td>Bakery Prod/Dough/Mix/Icing</td>\n",
       "      <td>VISITED A HEALTH CARE PROVIDER</td>\n",
       "      <td>370</td>\n",
       "    </tr>\n",
       "    <tr>\n",
       "      <th>2</th>\n",
       "      <td>Bakery Prod/Dough/Mix/Icing</td>\n",
       "      <td>REQ. INTERVENTION TO PRVNT PERM. IMPRMNT.</td>\n",
       "      <td>121</td>\n",
       "    </tr>\n",
       "    <tr>\n",
       "      <th>3</th>\n",
       "      <td>Bakery Prod/Dough/Mix/Icing</td>\n",
       "      <td>HOSPITALIZATION</td>\n",
       "      <td>119</td>\n",
       "    </tr>\n",
       "    <tr>\n",
       "      <th>4</th>\n",
       "      <td>Bakery Prod/Dough/Mix/Icing</td>\n",
       "      <td>NON-SERIOUS INJURIES/ ILLNESS</td>\n",
       "      <td>1923</td>\n",
       "    </tr>\n",
       "    <tr>\n",
       "      <th>...</th>\n",
       "      <td>...</td>\n",
       "      <td>...</td>\n",
       "      <td>...</td>\n",
       "    </tr>\n",
       "    <tr>\n",
       "      <th>5</th>\n",
       "      <td>Color Additiv Food/Drug/Cosmetic</td>\n",
       "      <td>DISABILITY</td>\n",
       "      <td>3</td>\n",
       "    </tr>\n",
       "    <tr>\n",
       "      <th>6</th>\n",
       "      <td>Color Additiv Food/Drug/Cosmetic</td>\n",
       "      <td>HOSPITALIZATION</td>\n",
       "      <td>1</td>\n",
       "    </tr>\n",
       "    <tr>\n",
       "      <th>7</th>\n",
       "      <td>Color Additiv Food/Drug/Cosmetic</td>\n",
       "      <td>LIFE THREATENING</td>\n",
       "      <td>3</td>\n",
       "    </tr>\n",
       "    <tr>\n",
       "      <th>0</th>\n",
       "      <td>Not Available</td>\n",
       "      <td>OTHER SERIOUS (IMPORTANT MEDICAL EVENTS)</td>\n",
       "      <td>1</td>\n",
       "    </tr>\n",
       "    <tr>\n",
       "      <th>0</th>\n",
       "      <td>EDIBLE INSECTS AND INSECT-DERIVED FOODS</td>\n",
       "      <td>NON-SERIOUS INJURIES/ ILLNESS</td>\n",
       "      <td>1</td>\n",
       "    </tr>\n",
       "  </tbody>\n",
       "</table>\n",
       "<p>393 rows × 3 columns</p>\n",
       "</div>"
      ],
      "text/plain": [
       "                              Industry Name  \\\n",
       "0               Bakery Prod/Dough/Mix/Icing   \n",
       "1               Bakery Prod/Dough/Mix/Icing   \n",
       "2               Bakery Prod/Dough/Mix/Icing   \n",
       "3               Bakery Prod/Dough/Mix/Icing   \n",
       "4               Bakery Prod/Dough/Mix/Icing   \n",
       "..                                      ...   \n",
       "5          Color Additiv Food/Drug/Cosmetic   \n",
       "6          Color Additiv Food/Drug/Cosmetic   \n",
       "7          Color Additiv Food/Drug/Cosmetic   \n",
       "0                             Not Available   \n",
       "0   EDIBLE INSECTS AND INSECT-DERIVED FOODS   \n",
       "\n",
       "                                       Events  Count  \n",
       "0                               VISITED AN ER    371  \n",
       "1              VISITED A HEALTH CARE PROVIDER    370  \n",
       "2   REQ. INTERVENTION TO PRVNT PERM. IMPRMNT.    121  \n",
       "3                             HOSPITALIZATION    119  \n",
       "4               NON-SERIOUS INJURIES/ ILLNESS   1923  \n",
       "..                                        ...    ...  \n",
       "5                                  DISABILITY      3  \n",
       "6                             HOSPITALIZATION      1  \n",
       "7                            LIFE THREATENING      3  \n",
       "0    OTHER SERIOUS (IMPORTANT MEDICAL EVENTS)      1  \n",
       "0               NON-SERIOUS INJURIES/ ILLNESS      1  \n",
       "\n",
       "[393 rows x 3 columns]"
      ]
     },
     "execution_count": 47,
     "metadata": {},
     "output_type": "execute_result"
    }
   ],
   "source": [
    "q3_final_df"
   ]
  },
  {
   "cell_type": "code",
   "execution_count": 48,
   "metadata": {},
   "outputs": [
    {
     "data": {
      "text/html": [
       "<div>\n",
       "<style scoped>\n",
       "    .dataframe tbody tr th:only-of-type {\n",
       "        vertical-align: middle;\n",
       "    }\n",
       "\n",
       "    .dataframe tbody tr th {\n",
       "        vertical-align: top;\n",
       "    }\n",
       "\n",
       "    .dataframe thead th {\n",
       "        text-align: right;\n",
       "    }\n",
       "</style>\n",
       "<table border=\"1\" class=\"dataframe\">\n",
       "  <thead>\n",
       "    <tr style=\"text-align: right;\">\n",
       "      <th></th>\n",
       "      <th>Industry Name</th>\n",
       "      <th>Events</th>\n",
       "      <th>Count</th>\n",
       "    </tr>\n",
       "  </thead>\n",
       "  <tbody>\n",
       "    <tr>\n",
       "      <th>0</th>\n",
       "      <td>Bakery Prod/Dough/Mix/Icing</td>\n",
       "      <td>VISITED AN ER</td>\n",
       "      <td>371</td>\n",
       "    </tr>\n",
       "    <tr>\n",
       "      <th>1</th>\n",
       "      <td>Bakery Prod/Dough/Mix/Icing</td>\n",
       "      <td>VISITED A HEALTH CARE PROVIDER</td>\n",
       "      <td>370</td>\n",
       "    </tr>\n",
       "    <tr>\n",
       "      <th>2</th>\n",
       "      <td>Bakery Prod/Dough/Mix/Icing</td>\n",
       "      <td>REQ. INTERVENTION TO PRVNT PERM. IMPRMNT.</td>\n",
       "      <td>121</td>\n",
       "    </tr>\n",
       "    <tr>\n",
       "      <th>3</th>\n",
       "      <td>Bakery Prod/Dough/Mix/Icing</td>\n",
       "      <td>HOSPITALIZATION</td>\n",
       "      <td>119</td>\n",
       "    </tr>\n",
       "    <tr>\n",
       "      <th>4</th>\n",
       "      <td>Bakery Prod/Dough/Mix/Icing</td>\n",
       "      <td>NON-SERIOUS INJURIES/ ILLNESS</td>\n",
       "      <td>1923</td>\n",
       "    </tr>\n",
       "    <tr>\n",
       "      <th>5</th>\n",
       "      <td>Bakery Prod/Dough/Mix/Icing</td>\n",
       "      <td>LIFE THREATENING</td>\n",
       "      <td>132</td>\n",
       "    </tr>\n",
       "    <tr>\n",
       "      <th>6</th>\n",
       "      <td>Bakery Prod/Dough/Mix/Icing</td>\n",
       "      <td>DEATH</td>\n",
       "      <td>13</td>\n",
       "    </tr>\n",
       "    <tr>\n",
       "      <th>7</th>\n",
       "      <td>Bakery Prod/Dough/Mix/Icing</td>\n",
       "      <td>SERIOUS INJURIES/ ILLNESS</td>\n",
       "      <td>8</td>\n",
       "    </tr>\n",
       "    <tr>\n",
       "      <th>8</th>\n",
       "      <td>Bakery Prod/Dough/Mix/Icing</td>\n",
       "      <td>NONE</td>\n",
       "      <td>19</td>\n",
       "    </tr>\n",
       "    <tr>\n",
       "      <th>9</th>\n",
       "      <td>Bakery Prod/Dough/Mix/Icing</td>\n",
       "      <td>OTHER SERIOUS (IMPORTANT MEDICAL EVENTS)</td>\n",
       "      <td>83</td>\n",
       "    </tr>\n",
       "    <tr>\n",
       "      <th>10</th>\n",
       "      <td>Bakery Prod/Dough/Mix/Icing</td>\n",
       "      <td>DISABILITY</td>\n",
       "      <td>18</td>\n",
       "    </tr>\n",
       "    <tr>\n",
       "      <th>11</th>\n",
       "      <td>Bakery Prod/Dough/Mix/Icing</td>\n",
       "      <td>CONGENITAL ANOMALY</td>\n",
       "      <td>1</td>\n",
       "    </tr>\n",
       "    <tr>\n",
       "      <th>0</th>\n",
       "      <td>Not Available</td>\n",
       "      <td>OTHER SERIOUS (IMPORTANT MEDICAL EVENTS)</td>\n",
       "      <td>1</td>\n",
       "    </tr>\n",
       "  </tbody>\n",
       "</table>\n",
       "</div>"
      ],
      "text/plain": [
       "                  Industry Name                                     Events  \\\n",
       "0   Bakery Prod/Dough/Mix/Icing                              VISITED AN ER   \n",
       "1   Bakery Prod/Dough/Mix/Icing             VISITED A HEALTH CARE PROVIDER   \n",
       "2   Bakery Prod/Dough/Mix/Icing  REQ. INTERVENTION TO PRVNT PERM. IMPRMNT.   \n",
       "3   Bakery Prod/Dough/Mix/Icing                            HOSPITALIZATION   \n",
       "4   Bakery Prod/Dough/Mix/Icing              NON-SERIOUS INJURIES/ ILLNESS   \n",
       "5   Bakery Prod/Dough/Mix/Icing                           LIFE THREATENING   \n",
       "6   Bakery Prod/Dough/Mix/Icing                                      DEATH   \n",
       "7   Bakery Prod/Dough/Mix/Icing                  SERIOUS INJURIES/ ILLNESS   \n",
       "8   Bakery Prod/Dough/Mix/Icing                                       NONE   \n",
       "9   Bakery Prod/Dough/Mix/Icing   OTHER SERIOUS (IMPORTANT MEDICAL EVENTS)   \n",
       "10  Bakery Prod/Dough/Mix/Icing                                 DISABILITY   \n",
       "11  Bakery Prod/Dough/Mix/Icing                         CONGENITAL ANOMALY   \n",
       "0                 Not Available   OTHER SERIOUS (IMPORTANT MEDICAL EVENTS)   \n",
       "\n",
       "    Count  \n",
       "0     371  \n",
       "1     370  \n",
       "2     121  \n",
       "3     119  \n",
       "4    1923  \n",
       "5     132  \n",
       "6      13  \n",
       "7       8  \n",
       "8      19  \n",
       "9      83  \n",
       "10     18  \n",
       "11      1  \n",
       "0       1  "
      ]
     },
     "execution_count": 48,
     "metadata": {},
     "output_type": "execute_result"
    }
   ],
   "source": [
    "filter_list = ['Not Available', 'Bakery Prod/Dough/Mix/Icing']\n",
    "q3_final_df[q3_final_df['Industry Name'].isin(filter_list)]"
   ]
  },
  {
   "cell_type": "code",
   "execution_count": 49,
   "metadata": {},
   "outputs": [],
   "source": [
    "sum_df = pd.DataFrame(columns = ['Industries','Total no of Events'])\n",
    "for indus in q3_final_df['Industry Name'].unique(): \n",
    "    temp = q3_final_df[q3_final_df['Industry Name'] == indus]\n",
    "    sum_df = sum_df.append({'Industries' : indus,\n",
    "                  'Total no of Events' : temp.Count.sum()},\n",
    "                  ignore_index=True)\n"
   ]
  },
  {
   "cell_type": "code",
   "execution_count": 50,
   "metadata": {},
   "outputs": [],
   "source": [
    "sum_df.sort_values('Total no of Events',ascending=False,inplace=True)"
   ]
  },
  {
   "cell_type": "code",
   "execution_count": 51,
   "metadata": {},
   "outputs": [
    {
     "data": {
      "text/html": [
       "<div>\n",
       "<style scoped>\n",
       "    .dataframe tbody tr th:only-of-type {\n",
       "        vertical-align: middle;\n",
       "    }\n",
       "\n",
       "    .dataframe tbody tr th {\n",
       "        vertical-align: top;\n",
       "    }\n",
       "\n",
       "    .dataframe thead th {\n",
       "        text-align: right;\n",
       "    }\n",
       "</style>\n",
       "<table border=\"1\" class=\"dataframe\">\n",
       "  <thead>\n",
       "    <tr style=\"text-align: right;\">\n",
       "      <th></th>\n",
       "      <th>Industries</th>\n",
       "      <th>Total no of Events</th>\n",
       "    </tr>\n",
       "  </thead>\n",
       "  <tbody>\n",
       "    <tr>\n",
       "      <th>5</th>\n",
       "      <td>Vit/Min/Prot/Unconv Diet(Human/Animal)</td>\n",
       "      <td>75683</td>\n",
       "    </tr>\n",
       "    <tr>\n",
       "      <th>7</th>\n",
       "      <td>Cosmetics</td>\n",
       "      <td>17284</td>\n",
       "    </tr>\n",
       "    <tr>\n",
       "      <th>19</th>\n",
       "      <td>Nuts/Edible Seed</td>\n",
       "      <td>3891</td>\n",
       "    </tr>\n",
       "    <tr>\n",
       "      <th>15</th>\n",
       "      <td>Vegetables/Vegetable Products</td>\n",
       "      <td>3561</td>\n",
       "    </tr>\n",
       "    <tr>\n",
       "      <th>6</th>\n",
       "      <td>Soft Drink/Water</td>\n",
       "      <td>3335</td>\n",
       "    </tr>\n",
       "  </tbody>\n",
       "</table>\n",
       "</div>"
      ],
      "text/plain": [
       "                                Industries Total no of Events\n",
       "5   Vit/Min/Prot/Unconv Diet(Human/Animal)              75683\n",
       "7                                Cosmetics              17284\n",
       "19                        Nuts/Edible Seed               3891\n",
       "15           Vegetables/Vegetable Products               3561\n",
       "6                         Soft Drink/Water               3335"
      ]
     },
     "execution_count": 51,
     "metadata": {},
     "output_type": "execute_result"
    }
   ],
   "source": [
    "sum_df.head()"
   ]
  },
  {
   "cell_type": "code",
   "execution_count": null,
   "metadata": {},
   "outputs": [],
   "source": []
  },
  {
   "cell_type": "markdown",
   "metadata": {},
   "source": [
    "# Plotly"
   ]
  },
  {
   "cell_type": "code",
   "execution_count": 53,
   "metadata": {
    "code_folding": []
   },
   "outputs": [
    {
     "name": "stdout",
     "output_type": "stream",
     "text": [
      "Dash is running on http://127.0.0.1:8080/\n",
      "\n",
      "Dash is running on http://127.0.0.1:8080/\n",
      "\n",
      " * Serving Flask app '__main__' (lazy loading)\n",
      " * Environment: production\n",
      "\u001b[31m   WARNING: This is a development server. Do not use it in a production deployment.\u001b[0m\n",
      "\u001b[2m   Use a production WSGI server instead.\u001b[0m\n",
      " * Debug mode: off\n"
     ]
    },
    {
     "name": "stderr",
     "output_type": "stream",
     "text": [
      " * Running on http://127.0.0.1:8080/ (Press CTRL+C to quit)\n",
      "127.0.0.1 - - [08/Dec/2021 11:06:33] \"GET / HTTP/1.1\" 200 -\n",
      "127.0.0.1 - - [08/Dec/2021 11:06:33] \"GET /_dash-component-suites/dash/deps/polyfill@7.v2_0_0m1638941638.12.1.min.js HTTP/1.1\" 200 -\n",
      "127.0.0.1 - - [08/Dec/2021 11:06:33] \"GET /_dash-component-suites/dash/deps/react@16.v2_0_0m1638941638.14.0.min.js HTTP/1.1\" 200 -\n",
      "127.0.0.1 - - [08/Dec/2021 11:06:33] \"GET /_dash-component-suites/dash/deps/react-dom@16.v2_0_0m1638941638.14.0.min.js HTTP/1.1\" 200 -\n",
      "127.0.0.1 - - [08/Dec/2021 11:06:33] \"GET /_dash-component-suites/dash/deps/prop-types@15.v2_0_0m1638941638.7.2.min.js HTTP/1.1\" 200 -\n",
      "127.0.0.1 - - [08/Dec/2021 11:06:33] \"GET /_dash-component-suites/dash_bootstrap_components/_components/dash_bootstrap_components.v1_0_1m1638941731.min.js HTTP/1.1\" 200 -\n",
      "127.0.0.1 - - [08/Dec/2021 11:06:33] \"GET /_dash-component-suites/dash/dash-renderer/build/dash_renderer.v2_0_0m1638941638.min.js HTTP/1.1\" 200 -\n",
      "127.0.0.1 - - [08/Dec/2021 11:06:33] \"GET /_dash-component-suites/dash/dcc/dash_core_components.v2_0_0m1638941638.js HTTP/1.1\" 200 -\n",
      "127.0.0.1 - - [08/Dec/2021 11:06:33] \"GET /_dash-component-suites/dash/dcc/dash_core_components-shared.v2_0_0m1638941638.js HTTP/1.1\" 200 -\n",
      "127.0.0.1 - - [08/Dec/2021 11:06:33] \"GET /_dash-component-suites/dash/html/dash_html_components.v2_0_0m1638941638.min.js HTTP/1.1\" 200 -\n",
      "127.0.0.1 - - [08/Dec/2021 11:06:33] \"GET /_dash-component-suites/dash/dash_table/bundle.v5_0_0m1638941638.js HTTP/1.1\" 200 -\n",
      "127.0.0.1 - - [08/Dec/2021 11:06:34] \"GET /_dash-dependencies HTTP/1.1\" 200 -\n",
      "127.0.0.1 - - [08/Dec/2021 11:06:34] \"GET /_dash-layout HTTP/1.1\" 200 -\n",
      "127.0.0.1 - - [08/Dec/2021 11:06:34] \"GET /_dash-component-suites/dash/dcc/async-dropdown.js HTTP/1.1\" 200 -\n",
      "127.0.0.1 - - [08/Dec/2021 11:06:34] \"GET /_dash-component-suites/dash/dcc/async-graph.js HTTP/1.1\" 200 -\n",
      "127.0.0.1 - - [08/Dec/2021 11:06:34] \"GET /_dash-component-suites/dash/dcc/async-plotlyjs.js HTTP/1.1\" 200 -\n",
      "C:\\Users\\ThinkPad\\anaconda3\\envs\\novo_nordisk\\lib\\site-packages\\pandas\\util\\_decorators.py:311: SettingWithCopyWarning:\n",
      "\n",
      "\n",
      "A value is trying to be set on a copy of a slice from a DataFrame\n",
      "\n",
      "See the caveats in the documentation: https://pandas.pydata.org/pandas-docs/stable/user_guide/indexing.html#returning-a-view-versus-a-copy\n",
      "\n",
      "127.0.0.1 - - [08/Dec/2021 11:06:34] \"POST /_dash-update-component HTTP/1.1\" 200 -\n",
      "127.0.0.1 - - [08/Dec/2021 11:06:34] \"POST /_dash-update-component HTTP/1.1\" 200 -\n",
      "127.0.0.1 - - [08/Dec/2021 11:06:34] \"POST /_dash-update-component HTTP/1.1\" 200 -\n",
      "127.0.0.1 - - [08/Dec/2021 11:06:34] \"POST /_dash-update-component HTTP/1.1\" 200 -\n"
     ]
    }
   ],
   "source": [
    "BS = \"https://cdn.jsdelivr.net/npm/bootstrap@5.1.0/dist/css/bootstrap.min.css\"\n",
    "app = dash.Dash(__name__,external_stylesheets=[BS,dbc.themes.BOOTSTRAP])\n",
    "app.layout = html.Div([\n",
    "    ###########Q1 Header###########\n",
    "    html.H2(\n",
    "        className='q1Header',\n",
    "        children=''),\n",
    "    ###########Q1 Filter Table###########\n",
    "    html.Div([\n",
    "        html.Table([\n",
    "            html.Tr([\n",
    "                html.Td(html.P(className='From', children='From : ')),\n",
    "                html.Td(\n",
    "                    dcc.Dropdown(className='from_year_dropdown',\n",
    "                                 id='from-year-dropdown',\n",
    "                                 options=[{\n",
    "                                     'label': year,\n",
    "                                     'value': year\n",
    "                                 } for year in q1_final_df.Years],\n",
    "                                 value=q1_final_df.Years.max() - 10,\n",
    "                                 clearable=False)),\n",
    "                html.Td(html.P(className='To', children='To : ')),\n",
    "                html.Td(\n",
    "                    dcc.Dropdown(className='to_year_dropdown',\n",
    "                                 id='to-year-dropdown',\n",
    "                                 options=[{\n",
    "                                     'label': year,\n",
    "                                     'value': year\n",
    "                                 } for year in q1_final_df.Years],\n",
    "                                 value=q1_final_df.Years.max(),\n",
    "                                 clearable=False))\n",
    "            ])\n",
    "        ])\n",
    "    ]),\n",
    "    ###########Q1 Charts###########\n",
    "    html.Div([\n",
    "        html.Div(className=\"q1_bar_chart\",\n",
    "                 children=[dcc.Graph(id='q1_bar_graph')]),\n",
    "        html.Div(className=\"q1_pie_chart\",\n",
    "                 children=[dcc.Graph(id='q1_pie_graph')])\n",
    "    ]),\n",
    "    html.Div([html.Hr(className='Q_hr')]),\n",
    "    html.Div([\n",
    "        ###########Q2 Header############\n",
    "        html.H2(\n",
    "            className='q2Header',\n",
    "            children=''),\n",
    "        ############Q2 Graph############\n",
    "        html.Div(className='q2_graph',\n",
    "                 children=[dcc.Graph(id='q2_bar_chart')]),\n",
    "        ###########Q2 graph Filters###########\n",
    "        html.Div(className='q2_graph_filters',\n",
    "                 children=[\n",
    "                     html.Div([html.P(className='filter',\n",
    "                                      children='Range')]),\n",
    "                     html.Div([\n",
    "                     html.Div(className='range',\n",
    "                              children=[\n",
    "                                  dcc.Input(id='range',\n",
    "                                            type='text',\n",
    "                                            placeholder='Eg.1-10',\n",
    "                                            value='1-10')\n",
    "                              ]),\n",
    "                     html.Div(className='end',\n",
    "                              children=[\n",
    "                                  html.Div([\n",
    "                                      html.Ul(className = 'q2_graph_text',\n",
    "                                              children = [\n",
    "                                                  html.Li(['Mention the range to be displayed in graph.']),\n",
    "                                                  html.Li(['Symptoms have been arranged in descending order.']),\n",
    "                                                  html.Li(['For better readability use the range of difference is less than or equal to 10.'])\n",
    "                                      ])\n",
    "                                  ])\n",
    "                              ])\n",
    "                     ])\n",
    "                 ])\n",
    "    ]),\n",
    "    html.Div([html.Hr(className='Q_hr')]),\n",
    "    html.Div([\n",
    "        ###########Q3 Header###########\n",
    "        html.H2(\n",
    "            className='q3Header',\n",
    "            children= ''\n",
    "        ),\n",
    "        ###########Q3 Top 10 Graph###########\n",
    "        html.Div([\n",
    "            dcc.Graph(\n",
    "                figure = px.bar(sum_df[0:10],\n",
    "                                y = 'Total no of Events',\n",
    "                                x = 'Industries',\n",
    "                               title='Top 10 Industries with Most Adverse Events')\n",
    "            )\n",
    "        ]),\n",
    "        html.Div(\n",
    "            className = 'q3_subplot_main_div',\n",
    "            children=[\n",
    "                html.Div(\n",
    "                    className = 'industries_drop_down',\n",
    "                    children = [\n",
    "                    dbc.DropdownMenu(\n",
    "                        label = 'Select the Industries',\n",
    "                        children=[\n",
    "                            dcc.Checklist(\n",
    "                                id = 'industries_drop_down',\n",
    "                                options=[{\n",
    "                                    'label': industry, \n",
    "                                    'value': industry\n",
    "                                } for industry in q3_final_df['Industry Name'].unique()\n",
    "                                ],\n",
    "                                value=[q3_final_df['Industry Name'].unique()[0]],\n",
    "                                labelStyle={'display': 'block'}\n",
    "                            )\n",
    "                        ]\n",
    "                    )\n",
    "                ]),\n",
    "                html.Div(\n",
    "                    className = 'events_div',\n",
    "                    id = 'event_drop_down'\n",
    "                )\n",
    "            ]),\n",
    "        html.Div([\n",
    "            html.Div([\n",
    "                dcc.Graph(id = 'compare_subplots')\n",
    "            ])\n",
    "        ])\n",
    "    ])\n",
    "])\n",
    "\n",
    "\n",
    "@app.callback(\n",
    "    [Output('q1_bar_graph', 'figure'),\n",
    "     Output('q1_pie_graph', 'figure')],\n",
    "    [Input('from-year-dropdown', 'value'),\n",
    "     Input('to-year-dropdown', 'value')])\n",
    "def update_q1_bar_pie_chart(from_value, to_value):\n",
    "    \n",
    "    if from_value > to_value:\n",
    "        raise PreventUpdate\n",
    "    \n",
    "    colors = ['rgb(239, 85, 59)', 'rgb(99, 110, 250)', 'rgb(0, 204, 150)']\n",
    "\n",
    "    temp_df = q1_final_df[(q1_final_df.Years >= int(from_value))\n",
    "                       & (q1_final_df.Years <= int(to_value))]\n",
    "\n",
    "    #Bar Chart\n",
    "    fig_bar = go.Figure(data=[\n",
    "        go.Bar(name='Male', x=temp_df.Years, y=temp_df.Male_percentage),\n",
    "        go.Bar(name='Female', x=temp_df.Years, y=temp_df.Female_percentage),\n",
    "        go.Bar(name='Unknown', x=temp_df.Years, y=temp_df.Unknown_percentage)\n",
    "    ],\n",
    "                       layout = {\n",
    "                           'title' : 'Percentage of adverse events reported each year by gender'\n",
    "                       })\n",
    "    fig_bar.update_xaxes(title_text = 'Years')\n",
    "    fig_bar.update_yaxes(title_text = 'Percentage')\n",
    "    fig_bar.update_layout(barmode='group')\n",
    "    fig_bar.update_layout(showlegend=False)\n",
    "    \n",
    "\n",
    "    #Pie Chart\n",
    "    Count_list = [\n",
    "        temp_df.Male.sum(),\n",
    "        temp_df.Female.sum(),\n",
    "        temp_df.Unknown.sum()\n",
    "    ]\n",
    "    Name = ['Male', 'Female', 'Unknown']\n",
    "    fig_pie = px.pie(q1_final_df,\n",
    "                     names=Name,\n",
    "                     values=Count_list,\n",
    "                     color_discrete_sequence=colors,\n",
    "                     title = 'All-over percentage of the adverse events by<br>gender over selected time period')\n",
    "\n",
    "    fig_pie.update_layout(legend_title_text='Gender')\n",
    "    fig_pie.update_traces(hole=.4, hoverinfo=\"label+percent+name\")\n",
    "\n",
    "    return fig_bar, fig_pie\n",
    "\n",
    "\n",
    "@app.callback(\n",
    "    Output('q2_bar_chart', 'figure'),\n",
    "    Input('range', 'value'))\n",
    "#      Input('end', 'value')])\n",
    "def Update_q2_bar_chart(range):\n",
    "\n",
    "    if range is None:\n",
    "        raise PreventUpdate\n",
    "        \n",
    "    range = range.split('-')\n",
    "    \n",
    "    if len(range) != 2:\n",
    "        raise PreventUpdate\n",
    "        \n",
    "    start = int(range[0])\n",
    "    end = int(range[1])\n",
    "    \n",
    "    if start > end:\n",
    "        raise PreventUpdate\n",
    "    \n",
    "    slice_df = q2_final_df[start-1:end + 1]\n",
    "    slice_df.sort_values('values', ascending=True, inplace=True)\n",
    "\n",
    "\n",
    "    #Q2 Bar chart\n",
    "    fig_bar = px.bar(slice_df,\n",
    "                     x='values',\n",
    "                     y=slice_df.index,\n",
    "                     orientation='h',\n",
    "                     labels = dict(index = 'Symptoms', \n",
    "                                  values = 'No of observations recorded'),\n",
    "                    title = 'Most frequently Reported Symptoms over entire span')\n",
    "    return fig_bar\n",
    "\n",
    "\n",
    "#################          Q3           ############################\n",
    "@app.callback(\n",
    "    Output('event_drop_down', 'children'), \n",
    "    Input('industries_drop_down', 'value'))\n",
    "def update_events(industries):\n",
    "    if industries is None:\n",
    "        raise PreventUpdate\n",
    "        \n",
    "    events = q3_final_df[q3_final_df['Industry Name'].isin(industries)]\n",
    "    unique_events = events.Events.unique()\n",
    "    \n",
    "    return dbc.DropdownMenu(\n",
    "                        label = 'Select the Events',\n",
    "                        className = 'events_dropdown',\n",
    "                        children=[\n",
    "                            dcc.Checklist(\n",
    "                                id = 'events_checklist',\n",
    "                                options=[{\n",
    "                                    'label': events, \n",
    "                                    'value': events\n",
    "                                } for events in unique_events\n",
    "                                ],\n",
    "                                value=['VISITED AN ER',\n",
    "                                       'VISITED A HEALTH CARE PROVIDER',\n",
    "                                       'REQ. INTERVENTION TO PRVNT PERM. IMPRMNT.', 'HOSPITALIZATION',\n",
    "                                       'NON-SERIOUS INJURIES/ ILLNESS', 'LIFE THREATENING', 'DEATH',\n",
    "                                       'SERIOUS INJURIES/ ILLNESS', 'NONE',\n",
    "                                       'OTHER SERIOUS (IMPORTANT MEDICAL EVENTS)', 'DISABILITY',\n",
    "                                       'CONGENITAL ANOMALY'],\n",
    "                                labelStyle={'display': 'block'}\n",
    "                            )]\n",
    "                        )\n",
    "\n",
    "@app.callback(Output('compare_subplots', 'figure'),\n",
    "              [Input('industries_drop_down', 'value'),\n",
    "             Input('events_checklist','value')])\n",
    "def update_compare_charts(indus_drop,events_drop):\n",
    "        \n",
    "    fig = go.Figure()\n",
    "    for indus in indus_drop:\n",
    "        compare_df = q3_final_df[q3_final_df['Industry Name'] == indus]\n",
    "        compare_df = compare_df[compare_df['Events'].isin(events_drop)]\n",
    "        \n",
    "        hover_text = []\n",
    "        bubble_size = []\n",
    "\n",
    "        for index, row in compare_df.iterrows():\n",
    "            hover_text.append(('Industry Name: {Industry_Name}<br>'+\n",
    "                              'Adverse Events: {Events}<br>'+\n",
    "                              'No of Records: {Count}<br>').format(Industry_Name=row['Industry Name'],\n",
    "                                                Events=row['Events'],\n",
    "                                                Count=row['Count']))\n",
    "\n",
    "            bubble_size.append(math.sqrt(row['Count']))\n",
    "\n",
    "        compare_df['text'] = hover_text\n",
    "        compare_df['size'] = bubble_size\n",
    "        \n",
    "        \n",
    "        fig.add_trace(go.Scatter(x=compare_df['Events'],\n",
    "                                 y=compare_df['Count'],\n",
    "                                 mode='markers',\n",
    "                                 text=compare_df['text'],\n",
    "                                 marker_size=compare_df['size'],\n",
    "                                 name = indus\n",
    "                                ))\n",
    "        \n",
    "    fig.update_layout(height=600, title_text=\"Compare Industries the industries with their respective events\")\n",
    "    fig.update_xaxes(title = 'Adverse Events')\n",
    "    fig.update_yaxes(title = 'No Of Records')\n",
    "    \n",
    "    return fig\n",
    "\n",
    "    \n",
    "if __name__ == '__main__':\n",
    "    def open_browser():\n",
    "        webbrowser.open_new('http://127.0.0.1:8080/')\n",
    "    open_browser()\n",
    "    app.run_server(debug=False, use_reloader=False, port='8080')"
   ]
  },
  {
   "cell_type": "code",
   "execution_count": null,
   "metadata": {},
   "outputs": [],
   "source": []
  }
 ],
 "metadata": {
  "colab": {
   "name": "Novo Nordisk competition.ipynb",
   "provenance": []
  },
  "interpreter": {
   "hash": "5a7cffd829ff8a6968e2d5e1953aff86dde354d120c5df81602b8bd4171ab4c7"
  },
  "kernelspec": {
   "display_name": "Python 3 (ipykernel)",
   "language": "python",
   "name": "python3"
  },
  "language_info": {
   "codemirror_mode": {
    "name": "ipython",
    "version": 3
   },
   "file_extension": ".py",
   "mimetype": "text/x-python",
   "name": "python",
   "nbconvert_exporter": "python",
   "pygments_lexer": "ipython3",
   "version": "3.8.12"
  },
  "widgets": {
   "application/vnd.jupyter.widget-state+json": {
    "state": {},
    "version_major": 2,
    "version_minor": 0
   }
  }
 },
 "nbformat": 4,
 "nbformat_minor": 4
}
